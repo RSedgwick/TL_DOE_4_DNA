{
 "cells": [
  {
   "cell_type": "code",
   "execution_count": 1,
   "metadata": {
    "collapsed": true
   },
   "outputs": [],
   "source": [
    "import pathlib as pl\n",
    "import os\n",
    "import pandas as pd\n",
    "from candas.learn import ParameterSet, ParameterArray"
   ]
  },
  {
   "cell_type": "markdown",
   "source": [
    "## Data Summary\n",
    "\n",
    "In this notebook we check which surfaces are in the targets and how many unique locations there are on each one."
   ],
   "metadata": {
    "collapsed": false,
    "pycharm": {
     "name": "#%% md\n"
    }
   }
  },
  {
   "cell_type": "markdown",
   "source": [
    "Load data"
   ],
   "metadata": {
    "collapsed": false,
    "pycharm": {
     "name": "#%% md\n"
    }
   }
  },
  {
   "cell_type": "code",
   "execution_count": 2,
   "outputs": [],
   "source": [
    "path = pl.Path(os.getcwd()).parent\n",
    "with open(path / 'data' / 'JG067 sequence targets.csv', \"rb\") as file:\n",
    "    targets = pd.read_csv(file)\n",
    "targets['PrimerPair'] = targets[['FPrimer', 'RPrimer']].agg('-'.join, axis=1)\n",
    "targets['EvaGreen'] = ((targets['-Strand Label'] == \"None\") & (targets['+Strand Label'] == \"None\"))\n",
    "targets.loc[targets['EvaGreen'] == True, 'EvaGreen'] = 'EvaGreen'\n",
    "targets.loc[targets['EvaGreen'] == False, 'EvaGreen'] = 'Probe'\n",
    "targets['PrimerPairReporter'] = targets[['PrimerPair', 'EvaGreen']].agg('-'.join, axis=1)\n",
    "# targets = targets.drop_duplicates(subset=['PrimerPairReporter'], keep='first')"
   ],
   "metadata": {
    "collapsed": false,
    "pycharm": {
     "name": "#%%\n"
    }
   }
  },
  {
   "cell_type": "code",
   "execution_count": 3,
   "outputs": [],
   "source": [
    "path = pl.Path(os.getcwd()).parent\n",
    "ps_df = pd.read_pickle(path / 'data' / 'ADVI_ParameterSets_220528.pkl')\n",
    "ps_df = ps_df[(ps_df.lg10_Copies == 8)]\n",
    "ps_df = ps_df.drop(ps_df[ps_df['Experiment'].str.contains(\"JG073A\")].index)\n",
    "ps = ParameterSet.from_wide(ps_df)\n",
    "ps.data['EvaGreen'] = ((ps.data['Reporter'] == \"EVAGREEN\") | (ps.data['Reporter'] == \"SYBR\"))\n",
    "ps.data.loc[ps.data['EvaGreen'] == True, 'EvaGreen'] = 'EvaGreen'\n",
    "ps.data.loc[ps.data['EvaGreen'] == False, 'EvaGreen'] = 'Probe'\n",
    "ps.data['PrimerPairReporter'] = ps.data[['PrimerPair', 'EvaGreen']].agg('-'.join, axis=1)"
   ],
   "metadata": {
    "collapsed": false,
    "pycharm": {
     "name": "#%%\n"
    }
   }
  },
  {
   "cell_type": "markdown",
   "source": [
    "Get data summary"
   ],
   "metadata": {
    "collapsed": false,
    "pycharm": {
     "name": "#%% md\n"
    }
   },
   "outputs": [
    {
     "ename": "SyntaxError",
     "evalue": "invalid syntax (4228383627.py, line 1)",
     "output_type": "error",
     "traceback": [
      "\u001B[0;36m  Cell \u001B[0;32mIn[26], line 1\u001B[0;36m\u001B[0m\n\u001B[0;31m    Get data summary\u001B[0m\n\u001B[0m        ^\u001B[0m\n\u001B[0;31mSyntaxError\u001B[0m\u001B[0;31m:\u001B[0m invalid syntax\n"
     ]
    }
   ],
   "execution_count": 26
  },
  {
   "cell_type": "code",
   "execution_count": 4,
   "outputs": [
    {
     "name": "stdout",
     "output_type": "stream",
     "text": [
      "no. of surfaces: 34\n",
      "no. surfaces to be optimized: 16\n",
      "no. unique locations: 327\n",
      "total number data points: 592\n",
      "min number of repeats at a location: 1\n",
      "max number of repeats at a location: 6\n"
     ]
    }
   ],
   "source": [
    "print('no. of surfaces:',len(ps.data['PrimerPairReporter'].unique()))\n",
    "print('no. surfaces to be optimized:', len(targets['PrimerPairReporter'].unique()))\n",
    "print('no. unique locations:',len(ps.data[['BP', 'GC', 'PrimerPairReporter']].drop_duplicates()))\n",
    "print('total number data points:', len(ps.data[(ps.data['Parameter'] == 'r') & (ps.data['Metric'] == 'mean')]))\n",
    "print('min number of repeats at a location:', ps.data[(ps.data['Parameter'] == 'r') & (ps.data['Metric'] == 'mean')].value_counts(['BP', 'GC', 'PrimerPairReporter']).min())\n",
    "print('max number of repeats at a location:', ps.data[(ps.data['Parameter'] == 'r') & (ps.data['Metric'] == 'mean')].value_counts(['BP', 'GC', 'PrimerPairReporter']).max())\n"
   ],
   "metadata": {
    "collapsed": false,
    "pycharm": {
     "name": "#%%\n"
    }
   }
  },
  {
   "cell_type": "markdown",
   "source": [
    "Calculate which surfaces are in the targets list and which aren't"
   ],
   "metadata": {
    "collapsed": false,
    "pycharm": {
     "name": "#%% md\n"
    }
   }
  },
  {
   "cell_type": "code",
   "execution_count": 5,
   "outputs": [],
   "source": [
    "ppr_not_in_targets = set(ps.data['PrimerPairReporter'].unique()) - set(targets['PrimerPairReporter'].unique())\n",
    "ppr_not_in_data = set(targets['PrimerPairReporter'].unique()) - set(ps.data['PrimerPairReporter'].unique())\n",
    "ppr_in_both = set(ps.data['PrimerPairReporter'].unique()) & set(targets['PrimerPairReporter'].unique())"
   ],
   "metadata": {
    "collapsed": false,
    "pycharm": {
     "name": "#%%\n"
    }
   }
  },
  {
   "cell_type": "code",
   "execution_count": 6,
   "outputs": [],
   "source": [
    "unique_locations = ps.data[['PrimerPairReporter', 'BP', 'GC']].drop_duplicates()"
   ],
   "metadata": {
    "collapsed": false,
    "pycharm": {
     "name": "#%%\n"
    }
   }
  },
  {
   "cell_type": "markdown",
   "source": [
    "Print list of the surfaces which are NOT in the targets list and how many unique data locations there are on each"
   ],
   "metadata": {
    "collapsed": false,
    "pycharm": {
     "name": "#%% md\n"
    }
   }
  },
  {
   "cell_type": "code",
   "execution_count": 7,
   "outputs": [
    {
     "data": {
      "text/plain": "PrimerPairReporter       \nFP004-RP004-EvaGreen         28\nFP002-RP002x-Probe           12\nFP004-RP004x-Probe           12\nFP001-RP001-Probe             9\nFP001-RP005-Probe             8\nFP004-RP004x-EvaGreen         8\nFP003-RP008-Probe             5\nFP006-RP006-Probe             5\nFP005-RP005-Probe             5\nFP002-RP002-EvaGreen          4\nFP002-RP006-Probe             4\nFP057.1.0-RP003x-Probe        3\nFP003-RP008x-EvaGreen         3\nFP003-RP008-EvaGreen          3\nFP002-RP002-Probe             3\nFP001-RP001-EvaGreen          2\nFP003-RP003-Probe             1\nFP057.1.0-RP003x-EvaGreen     1\ndtype: int64"
     },
     "execution_count": 7,
     "metadata": {},
     "output_type": "execute_result"
    }
   ],
   "source": [
    "unique_locations[unique_locations['PrimerPairReporter'].isin(ppr_not_in_targets)].value_counts(['PrimerPairReporter'])\n"
   ],
   "metadata": {
    "collapsed": false,
    "pycharm": {
     "name": "#%%\n"
    }
   }
  },
  {
   "cell_type": "markdown",
   "source": [
    "Print list of the surfaces which are in the target list and the number of data points on each"
   ],
   "metadata": {
    "collapsed": false,
    "pycharm": {
     "name": "#%% md\n"
    }
   }
  },
  {
   "cell_type": "code",
   "execution_count": 8,
   "outputs": [
    {
     "data": {
      "text/plain": "PrimerPairReporter   \nFP004-RP004-Probe        53\nFP001-RP001x-EvaGreen    24\nFP001-RP001x-Probe       20\nRP001x-FP002-Probe       19\nFP002-RP002x-EvaGreen    15\nFP005-FP001-EvaGreen     14\nFP004-FP005-Probe         8\nFP005-FP001-Probe         8\nFP005-FP004-EvaGreen      8\nRP002x-FP005-Probe        8\nRP008x-FP001-EvaGreen     8\nRP008x-FP005-Probe        8\nFP001-RP004-EvaGreen      7\nRP002x-FP004-EvaGreen     6\nFP002-RP004-EvaGreen      3\nRP002x-FP002-EvaGreen     2\ndtype: int64"
     },
     "execution_count": 8,
     "metadata": {},
     "output_type": "execute_result"
    }
   ],
   "source": [
    "# amount of data of surfaces in targets:\n",
    "unique_locations[unique_locations['PrimerPairReporter'].isin(ppr_in_both)].value_counts(['PrimerPairReporter'])"
   ],
   "metadata": {
    "collapsed": false,
    "pycharm": {
     "name": "#%%\n"
    }
   }
  },
  {
   "cell_type": "markdown",
   "source": [
    "Print list of surfaces in targets and not in targets"
   ],
   "metadata": {
    "collapsed": false,
    "pycharm": {
     "name": "#%% md\n"
    }
   }
  },
  {
   "cell_type": "code",
   "execution_count": 9,
   "outputs": [
    {
     "name": "stdout",
     "output_type": "stream",
     "text": [
      "not in targets: ['FP001-RP001-Probe' 'FP002-RP002-Probe' 'FP004-RP004-EvaGreen'\n",
      " 'FP001-RP001-EvaGreen' 'FP002-RP002-EvaGreen' 'FP001-RP005-Probe'\n",
      " 'FP005-RP005-Probe' 'FP002-RP006-Probe' 'FP006-RP006-Probe'\n",
      " 'FP003-RP008-Probe' 'FP002-RP002x-Probe' 'FP004-RP004x-Probe'\n",
      " 'FP004-RP004x-EvaGreen' 'FP003-RP008-EvaGreen' 'FP003-RP008x-EvaGreen'\n",
      " 'FP057.1.0-RP003x-EvaGreen' 'FP003-RP003-Probe' 'FP057.1.0-RP003x-Probe']\n",
      "in targets: ['FP004-RP004-Probe' 'FP001-RP001x-EvaGreen' 'FP002-RP002x-EvaGreen'\n",
      " 'FP001-RP001x-Probe' 'FP005-FP001-Probe' 'RP001x-FP002-Probe'\n",
      " 'RP002x-FP005-Probe' 'FP005-FP004-EvaGreen' 'RP002x-FP002-EvaGreen'\n",
      " 'FP001-RP004-EvaGreen' 'FP002-RP004-EvaGreen' 'FP004-FP005-Probe'\n",
      " 'RP008x-FP005-Probe' 'FP005-FP001-EvaGreen' 'RP002x-FP004-EvaGreen'\n",
      " 'RP008x-FP001-EvaGreen']\n"
     ]
    }
   ],
   "source": [
    "print('not in targets:', unique_locations[unique_locations['PrimerPairReporter']\n",
    "      .isin(ppr_not_in_targets)]['PrimerPairReporter'].unique()\n",
    ")\n",
    "\n",
    "print('in targets:',unique_locations[unique_locations['PrimerPairReporter']\n",
    "      .isin(ppr_in_both)]['PrimerPairReporter'].unique()\n",
    ")"
   ],
   "metadata": {
    "collapsed": false,
    "pycharm": {
     "name": "#%%\n"
    }
   }
  },
  {
   "cell_type": "markdown",
   "source": [
    "Print the target values"
   ],
   "metadata": {
    "collapsed": false,
    "pycharm": {
     "name": "#%% md\n"
    }
   }
  },
  {
   "cell_type": "code",
   "execution_count": 10,
   "outputs": [
    {
     "name": "stdout",
     "output_type": "stream",
     "text": [
      "       PrimerPairReporter  Target Rate\n",
      "0   FP001-RP001x-EvaGreen        0.902\n",
      "1   FP002-RP002x-EvaGreen        0.902\n",
      "2       FP005-FP001-Probe        0.866\n",
      "3      RP001x-FP002-Probe        0.951\n",
      "4      RP002x-FP005-Probe        0.866\n",
      "5    FP005-FP004-EvaGreen        0.653\n",
      "6       FP004-RP004-Probe        0.758\n",
      "7   FP001-RP001x-EvaGreen        0.952\n",
      "8   RP002x-FP002-EvaGreen        0.952\n",
      "9    FP001-RP004-EvaGreen        1.050\n",
      "10   FP002-RP004-EvaGreen        1.050\n",
      "11      FP004-RP004-Probe        0.577\n",
      "12      FP004-FP005-Probe        0.486\n",
      "13  FP001-RP001x-EvaGreen        0.902\n",
      "14  FP002-RP002x-EvaGreen        0.902\n",
      "15     RP008x-FP005-Probe        0.806\n",
      "16   FP005-FP001-EvaGreen        0.963\n",
      "17     RP001x-FP002-Probe        0.477\n",
      "18  RP002x-FP004-EvaGreen        0.963\n",
      "19      FP004-RP004-Probe        0.806\n",
      "20  RP008x-FP001-EvaGreen        0.912\n",
      "21   FP005-FP001-EvaGreen        0.912\n",
      "22     FP001-RP001x-Probe        1.030\n",
      "23     RP001x-FP002-Probe        0.506\n"
     ]
    }
   ],
   "source": [
    "print(targets[['PrimerPairReporter', 'Target Rate']])"
   ],
   "metadata": {
    "collapsed": false,
    "pycharm": {
     "name": "#%%\n"
    }
   }
  },
  {
   "cell_type": "code",
   "execution_count": 11,
   "outputs": [],
   "source": [
    "#In targets:\n",
    "\n",
    "in_targ = ['FP004-RP004-Probe', 'FP001-RP001x-EvaGreen', 'FP002-RP002x-EvaGreen',\n",
    " 'FP001-RP001x-Probe', 'FP005-FP001-Probe', 'RP001x-FP002-Probe',\n",
    " 'RP002x-FP005-Probe', 'FP005-FP004-EvaGreen' ,'RP002x-FP002-EvaGreen',\n",
    " 'FP001-RP004-EvaGreen', 'FP002-RP004-EvaGreen', 'FP004-FP005-Probe',\n",
    " 'RP008x-FP005-Probe', 'FP005-FP001-EvaGreen', 'RP002x-FP004-EvaGreen',\n",
    " 'RP008x-FP001-EvaGreen']\n",
    "\n",
    "\n",
    "#Not in targets:\n",
    "out_targ = ['FP001-RP001-Probe', 'FP002-RP002-Probe', 'FP004-RP004-EvaGreen',\n",
    " 'FP001-RP001-EvaGreen', 'FP002-RP002-EvaGreen', 'FP001-RP005-Probe',\n",
    " 'FP005-RP005-Probe', 'FP002-RP006-Probe', 'FP006-RP006-Probe',\n",
    " 'FP003-RP008-Probe', 'FP002-RP002x-Probe', 'FP004-RP004x-Probe',\n",
    " 'FP004-RP004x-EvaGreen', 'FP003-RP008-EvaGreen', 'FP003-RP008x-EvaGreen',\n",
    " 'FP057.1.0-RP003x-EvaGreen', 'FP003-RP003-Probe', 'FP057.1.0-RP003x-Probe']\n"
   ],
   "metadata": {
    "collapsed": false,
    "pycharm": {
     "name": "#%%\n"
    }
   }
  },
  {
   "cell_type": "code",
   "execution_count": 12,
   "outputs": [],
   "source": [
    "surfs1 = ['FP001-RP001-Probe', 'FP002-RP002-Probe', 'FP004-RP004-EvaGreen',\n",
    "                 'FP001-RP001-EvaGreen', 'FP002-RP002-EvaGreen', 'FP001-RP005-Probe',\n",
    "                 'FP005-RP005-Probe', 'FP002-RP006-Probe', 'FP006-RP006-Probe',\n",
    "                 'FP003-RP008-Probe', 'FP002-RP002x-Probe', 'FP004-RP004x-Probe',\n",
    "                 'FP004-RP004x-EvaGreen', 'FP003-RP008-EvaGreen', 'FP003-RP008x-EvaGreen',\n",
    "                 'FP057.1.0-RP003x-EvaGreen', 'FP003-RP003-Probe', 'FP057.1.0-RP003x-Probe',\n",
    "                 'FP001-RP001x-EvaGreen', 'FP004-RP004-Probe',\n",
    "                 'FP001-RP001x-Probe', 'FP005-FP001-Probe', 'RP001x-FP002-Probe',\n",
    "                 'RP002x-FP005-Probe', 'FP005-FP004-EvaGreen', 'RP002x-FP002-EvaGreen',\n",
    "                 'FP001-RP004-EvaGreen', 'FP002-RP004-EvaGreen', 'FP004-FP005-Probe',\n",
    "                 'RP008x-FP005-Probe', 'FP005-FP001-EvaGreen', 'RP002x-FP004-EvaGreen',\n",
    "                 'RP008x-FP001-EvaGreen', 'FP002-RP002x-EvaGreen']\n",
    "\n",
    "all_surfaces = ['FP004-RP004-Probe', 'FP001-RP001x-EvaGreen', 'FP002-RP002x-EvaGreen',\n",
    "                     'FP001-RP001x-Probe', 'FP005-FP001-Probe', 'RP001x-FP002-Probe',\n",
    "                     'RP002x-FP005-Probe', 'FP005-FP004-EvaGreen', 'RP002x-FP002-EvaGreen',\n",
    "                     'FP001-RP004-EvaGreen', 'FP002-RP004-EvaGreen', 'FP004-FP005-Probe',\n",
    "                     'RP008x-FP005-Probe', 'FP005-FP001-EvaGreen', 'RP002x-FP004-EvaGreen',\n",
    "                     'RP008x-FP001-EvaGreen', 'FP001-RP001-Probe', 'FP002-RP002-Probe', 'FP004-RP004-EvaGreen',\n",
    "                     'FP001-RP001-EvaGreen', 'FP002-RP002-EvaGreen', 'FP001-RP005-Probe',\n",
    "                     'FP005-RP005-Probe', 'FP002-RP006-Probe', 'FP006-RP006-Probe',\n",
    "                     'FP003-RP008-Probe', 'FP002-RP002x-Probe', 'FP004-RP004x-Probe',\n",
    "                     'FP004-RP004x-EvaGreen', 'FP003-RP008-EvaGreen', 'FP003-RP008x-EvaGreen',\n",
    "                     'FP057.1.0-RP003x-EvaGreen', 'FP003-RP003-Probe', 'FP057.1.0-RP003x-Probe']\n",
    "\n",
    "out_targ = ['FP001-RP001-Probe', 'FP002-RP002-Probe', 'FP004-RP004-EvaGreen',\n",
    "                'FP001-RP001-EvaGreen', 'FP002-RP002-EvaGreen', 'FP001-RP005-Probe',\n",
    "                'FP005-RP005-Probe', 'FP002-RP006-Probe', 'FP006-RP006-Probe',\n",
    "                'FP003-RP008-Probe', 'FP002-RP002x-Probe', 'FP004-RP004x-Probe',\n",
    "                'FP004-RP004x-EvaGreen', 'FP003-RP008-EvaGreen', 'FP003-RP008x-EvaGreen',\n",
    "                'FP057.1.0-RP003x-EvaGreen', 'FP003-RP003-Probe', 'FP057.1.0-RP003x-Probe']"
   ],
   "metadata": {
    "collapsed": false,
    "pycharm": {
     "name": "#%%\n"
    }
   }
  },
  {
   "cell_type": "code",
   "execution_count": 13,
   "outputs": [
    {
     "name": "stdout",
     "output_type": "stream",
     "text": [
      "16\n"
     ]
    },
    {
     "data": {
      "text/plain": "34"
     },
     "execution_count": 13,
     "metadata": {},
     "output_type": "execute_result"
    }
   ],
   "source": [
    "print(len(set(all_surfaces) - set(out_targ)))\n",
    "len(surfs1)"
   ],
   "metadata": {
    "collapsed": false,
    "pycharm": {
     "name": "#%%\n"
    }
   }
  },
  {
   "cell_type": "code",
   "execution_count": 14,
   "outputs": [],
   "source": [
    "from candas.learn import parray\n",
    "\n",
    "unique_locations = ps.data[['BP', 'GC', 'PrimerPairReporter']].drop_duplicates()\n",
    "temp_parray = parray(**{'BP': unique_locations['BP'], 'GC': unique_locations['GC'],\n",
    "                        'PrimerPairReporter':unique_locations['PrimerPairReporter']}, stdzr=ps.stdzr)"
   ],
   "metadata": {
    "collapsed": false,
    "pycharm": {
     "name": "#%%\n"
    }
   }
  },
  {
   "cell_type": "code",
   "execution_count": 15,
   "outputs": [],
   "source": [
    "import numpy as np\n",
    "unique_locations['centre dist'] = np.sqrt(\n",
    "                (temp_parray['BP'].z.values() - 0) ** 2\n",
    "                + (temp_parray['GC'].z.values() - 0) ** 2)"
   ],
   "metadata": {
    "collapsed": false,
    "pycharm": {
     "name": "#%%\n"
    }
   }
  },
  {
   "cell_type": "code",
   "execution_count": 16,
   "outputs": [],
   "source": [
    "unique_locations['BP_z'] = temp_parray['BP'].z.values()\n",
    "unique_locations['GC_z'] = temp_parray['GC'].z.values()"
   ],
   "metadata": {
    "collapsed": false,
    "pycharm": {
     "name": "#%%\n"
    }
   }
  },
  {
   "cell_type": "code",
   "execution_count": 17,
   "outputs": [
    {
     "data": {
      "text/plain": "327"
     },
     "execution_count": 17,
     "metadata": {},
     "output_type": "execute_result"
    }
   ],
   "source": [
    "len(unique_locations)"
   ],
   "metadata": {
    "collapsed": false,
    "pycharm": {
     "name": "#%%\n"
    }
   }
  },
  {
   "cell_type": "code",
   "execution_count": 18,
   "outputs": [],
   "source": [
    "sorted_data = pd.merge(ps.data[(ps.data['Parameter'] == 'r') & (ps.data['Metric'] == 'mean')],\n",
    "                                   unique_locations, on=['BP', 'GC', 'PrimerPairReporter'],\n",
    "                                   how='left').sort_values(by='centre dist')"
   ],
   "metadata": {
    "collapsed": false,
    "pycharm": {
     "name": "#%%\n"
    }
   }
  },
  {
   "cell_type": "code",
   "execution_count": 19,
   "outputs": [],
   "source": [
    "for i, target in targets.iterrows():\n",
    "    ppr = target['PrimerPairReporter']\n",
    "    targ = target['Target Rate']\n",
    "    temp_df = ps.data[(ps.data['PrimerPairReporter'] == ppr) & (ps.data['Parameter'] == 'r') & (ps.data['Metric'] == 'mean')]\n"
   ],
   "metadata": {
    "collapsed": false,
    "pycharm": {
     "name": "#%%\n"
    }
   }
  },
  {
   "cell_type": "code",
   "execution_count": 19,
   "outputs": [],
   "source": [],
   "metadata": {
    "collapsed": false,
    "pycharm": {
     "name": "#%%\n"
    }
   }
  }
 ],
 "metadata": {
  "kernelspec": {
   "display_name": "Python 3",
   "language": "python",
   "name": "python3"
  },
  "language_info": {
   "codemirror_mode": {
    "name": "ipython",
    "version": 2
   },
   "file_extension": ".py",
   "mimetype": "text/x-python",
   "name": "python",
   "nbconvert_exporter": "python",
   "pygments_lexer": "ipython2",
   "version": "2.7.6"
  }
 },
 "nbformat": 4,
 "nbformat_minor": 0
}
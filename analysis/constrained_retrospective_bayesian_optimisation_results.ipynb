{
 "cells": [
  {
   "cell_type": "code",
   "execution_count": 40,
   "outputs": [],
   "source": [
    "import numpy as np\n",
    "import pathlib as pl\n",
    "import os\n",
    "import pandas as pd\n",
    "import warnings\n",
    "warnings.simplefilter(\"ignore\")\n",
    "from copy import copy\n",
    "import retroBO_analysis_functions as fns\n",
    "import pickle\n",
    "import matplotlib.pyplot as plt\n",
    "import matplotlib as mpl\n",
    "\n",
    "mpl.style.use('mystyle.mplstyle')\n",
    "\n",
    "inch_conversion = 1/25.4\n",
    "page_width = 142.4 *inch_conversion\n",
    "column_width = 67.2* inch_conversion"
   ],
   "metadata": {
    "collapsed": false,
    "pycharm": {
     "name": "#%%\n"
    }
   }
  },
  {
   "cell_type": "markdown",
   "source": [
    "# Notebook for Plotting Retrospective Bayesian Optimisation Results\n",
    "\n",
    "This notebook is for plotting the results of the retrospective Bayesian optimisation on the PCR data."
   ],
   "metadata": {
    "collapsed": false
   }
  },
  {
   "cell_type": "markdown",
   "source": [
    "First specify the results to be plotted."
   ],
   "metadata": {
    "collapsed": false
   }
  },
  {
   "cell_type": "code",
   "execution_count": 41,
   "outputs": [],
   "source": [
    "param_name = 'both' # which parameters\n",
    "save=False\n",
    "params = ['r', 'm']\n",
    "\n",
    "# random_if_none=False\n",
    "starting_points = ['centre', '0_point_start'] #, '0_point_start', 'centre',\n",
    "learning_types = ['learning_many', 'learning_1'] #'learning many',"
   ],
   "metadata": {
    "collapsed": false,
    "pycharm": {
     "name": "#%%\n"
    }
   }
  },
  {
   "cell_type": "markdown",
   "source": [
    "Load the results"
   ],
   "metadata": {
    "collapsed": false
   }
  },
  {
   "cell_type": "code",
   "execution_count": 42,
   "outputs": [],
   "source": [
    "res_dfs = {}\n",
    "results_path = pl.Path(os.getcwd()).parent / 'results'\n",
    "for key in ['centre_learning_1', '0_point_start_learning_1',\n",
    "                  'centre_learning_many', '0_point_start_learning_many']:\n",
    "    res_dfs[key] = pd.read_csv(results_path /f'bayes_opt_{key}.csv', index_col=0)"
   ],
   "metadata": {
    "collapsed": false,
    "pycharm": {
     "name": "#%%\n"
    }
   }
  },
  {
   "cell_type": "markdown",
   "source": [
    "Check what data is missing"
   ],
   "metadata": {
    "collapsed": false
   }
  },
  {
   "cell_type": "code",
   "execution_count": 43,
   "outputs": [
    {
     "name": "stdout",
     "output_type": "stream",
     "text": [
      "                      centre_learning_1 0_point_start_learning_1  \\\n",
      "FP001-RP001x-EvaGreen                24                       24   \n",
      "FP002-RP002x-EvaGreen                24                       24   \n",
      "FP005-FP001-Probe                    24                       24   \n",
      "RP001x-FP002-Probe                   24                       24   \n",
      "RP002x-FP005-Probe                   24                       24   \n",
      "FP005-FP004-EvaGreen                 24                       24   \n",
      "FP004-RP004-Probe                    24                       24   \n",
      "RP002x-FP002-EvaGreen                24                       24   \n",
      "FP001-RP004-EvaGreen                 24                       24   \n",
      "FP002-RP004-EvaGreen                 24                       24   \n",
      "FP004-FP005-Probe                    24                       24   \n",
      "RP008x-FP005-Probe                   24                       24   \n",
      "FP005-FP001-EvaGreen                 24                       24   \n",
      "RP002x-FP004-EvaGreen                24                       24   \n",
      "RP008x-FP001-EvaGreen                24                       24   \n",
      "FP001-RP001x-Probe                   24                       24   \n",
      "\n",
      "                      centre_learning_many 0_point_start_learning_many  \n",
      "FP001-RP001x-EvaGreen                   25                          24  \n",
      "FP002-RP002x-EvaGreen                   25                          24  \n",
      "FP005-FP001-Probe                       25                          24  \n",
      "RP001x-FP002-Probe                      25                          24  \n",
      "RP002x-FP005-Probe                      25                          24  \n",
      "FP005-FP004-EvaGreen                    25                          24  \n",
      "FP004-RP004-Probe                       25                          24  \n",
      "RP002x-FP002-EvaGreen                   25                          24  \n",
      "FP001-RP004-EvaGreen                    25                          24  \n",
      "FP002-RP004-EvaGreen                    25                          24  \n",
      "FP004-FP005-Probe                       25                          24  \n",
      "RP008x-FP005-Probe                      25                          24  \n",
      "FP005-FP001-EvaGreen                    25                          24  \n",
      "RP002x-FP004-EvaGreen                   25                          24  \n",
      "RP008x-FP001-EvaGreen                   25                          24  \n",
      "FP001-RP001x-Probe                      25                          24  \n"
     ]
    }
   ],
   "source": [
    "seeds_df = pd.DataFrame(columns=list(res_dfs.keys()),\n",
    "                        index=res_dfs[f'{starting_points[0]}_learning_many']['PrimerPairReporter'].unique())\n",
    "\n",
    "for key, df in res_dfs.items():\n",
    "\n",
    "    for ppr in df['PrimerPairReporter'].unique():\n",
    "        df_ = df[df['PrimerPairReporter'] == ppr]\n",
    "        # counts = df_.value_counts('seed').to_frame()\n",
    "        seeds_df[key][ppr] = len(df_['seed'].unique())\n",
    "\n",
    "print(seeds_df)"
   ],
   "metadata": {
    "collapsed": false,
    "pycharm": {
     "name": "#%%\n"
    }
   }
  },
  {
   "cell_type": "markdown",
   "source": [
    "If necessary, see which seeds are missing data:"
   ],
   "metadata": {
    "collapsed": false
   }
  },
  {
   "cell_type": "code",
   "execution_count": 44,
   "outputs": [
    {
     "name": "stdout",
     "output_type": "stream",
     "text": [
      "centre_learning_1\n",
      "seed                   1   2   3   4   5   6   7   8   9   10  11  12  13  14  15  16  17  18  19  20  21  22  23  24\n",
      "FP004-RP004-Probe      18  16  16  18  16  16  15  16  17  18  17  18  18  18  18  15  18  18  17  19  16  16  16  15\n",
      "FP001-RP001x-EvaGreen  16  16  17  15  15  16  17  17  16  16  16  15  16  16  18  15  15  17  16  15  17  16  13  14\n",
      "FP002-RP002x-EvaGreen  14  15  15  15  14  14  15  15  15  15  15  14  15  15  15  15  15  15  15  15  15  15  15  15\n",
      "FP001-RP001x-Probe     14  14  12  17  14  14  14  15  15  16  14  14  15  12  15  14  14  17  15  15  15  16  13  17\n",
      "FP005-FP001-Probe       8   8   8   8   8   8   8   8   8   8   8   8   8   8   8   8   8   8   8   8   8   8   8   8\n",
      "RP001x-FP002-Probe     14  14  13  17  14  16  15  16  15  13  14  14  14  14  17  14  11  10  13  14  13  12  13  13\n",
      "RP002x-FP005-Probe      8   8   8   8   8   8   8   8   8   8   8   8   8   8   8   8   8   8   8   8   8   8   8   8\n",
      "FP005-FP004-EvaGreen    8   8   8   8   8   8   8   8   8   8   8   8   8   8   8   8   8   8   8   8   8   8   8   8\n",
      "RP002x-FP002-EvaGreen   2   2   2   2   2   2   2   2   2   2   2   2   2   2   2   2   2   2   2   2   2   2   2   2\n",
      "FP001-RP004-EvaGreen    7   7   7   7   7   7   7   7   7   7   7   7   7   7   7   7   7   7   7   7   7   7   7   7\n",
      "FP002-RP004-EvaGreen    3   3   3   3   3   3   3   3   3   3   3   3   3   3   3   3   3   3   3   3   3   3   3   3\n",
      "FP004-FP005-Probe       8   8   8   8   8   8   8   8   8   8   8   8   8   8   8   8   8   8   8   8   8   8   8   8\n",
      "RP008x-FP005-Probe      8   8   8   8   8   8   8   8   8   8   8   8   8   8   8   8   8   8   8   8   8   8   8   8\n",
      "FP005-FP001-EvaGreen   11  13  11  12  13  11  13  12  13  14  14  13  12  11  12  10  14  11  10  12  10  10  12  13\n",
      "RP002x-FP004-EvaGreen   6   6   6   6   6   6   6   6   6   6   6   6   6   6   6   6   6   6   6   6   6   6   6   6\n",
      "RP008x-FP001-EvaGreen   8   8   8   8   8   8   8   8   8   8   8   8   8   8   8   8   8   8   8   8   8   8   8   8\n",
      "0_point_start_learning_1\n",
      "seed                   1   2   3   4   5   6   7   8   9   10  11  12  13  14  15  16  17  18  19  20  21  22  23  24\n",
      "FP004-RP004-Probe      18  19  17  18  17  18  17  15  18  18  18  19  18  19  19  14  18  20  18  13  17  18  17  12\n",
      "FP001-RP001x-EvaGreen  14  16  18  19  15  17  17  16  16  16  16  15  12  16  16  15  18  16  17  16  15  16  13  16\n",
      "FP002-RP002x-EvaGreen  15  15  15  15  15  15  15  15  15  15  14  15  15  15  15  15  15  15  15  10  15  15  15  15\n",
      "FP001-RP001x-Probe     12  12  14  17  15  16  13  18  15  10  17  15  16  16  18  12  16  14  16  16  16  17  16  11\n",
      "FP005-FP001-Probe       8   8   8   8   8   8   8   8   8   8   8   8   8   8   8   8   8   8   8   8   8   8   8   8\n",
      "RP001x-FP002-Probe     17  15  15  12  17  13  15  19  13  16  16  16  16  15  15  17  15  18  10  15  15  16  16  15\n",
      "RP002x-FP005-Probe      8   8   8   8   8   8   8   8   8   8   8   8   8   8   8   8   8   8   8   8   8   8   8   8\n",
      "FP005-FP004-EvaGreen    8   8   8   8   8   8   8   8   8   8   8   8   8   8   8   8   8   8   8   8   8   8   8   8\n",
      "RP002x-FP002-EvaGreen   2   2   2   2   2   2   2   2   2   2   2   2   2   2   2   2   2   2   2   2   2   2   2   2\n",
      "FP001-RP004-EvaGreen    7   7   7   7   7   7   7   7   7   7   7   7   7   7   7   7   7   7   7   7   7   7   7   7\n",
      "FP002-RP004-EvaGreen    3   3   3   3   3   3   3   3   3   3   3   3   3   3   3   3   3   3   3   3   3   3   3   3\n",
      "FP004-FP005-Probe       8   8   8   8   8   8   8   8   8   8   8   8   8   8   8   8   8   8   8   8   8   8   8   8\n",
      "RP008x-FP005-Probe      8   8   8   8   8   8   8   8   8   8   8   8   8   8   8   8   8   8   8   8   8   8   8   8\n",
      "FP005-FP001-EvaGreen   14  14  14  14  14  14  14  14  14  14  14  14  14  14  14  14  14  14  14  14  14  14  14  14\n",
      "RP002x-FP004-EvaGreen   6   6   6   6   6   6   6   6   6   6   6   6   6   6   6   6   6   6   6   6   6   6   6   6\n",
      "RP008x-FP001-EvaGreen   8   8   8   8   8   8   8   8   8   8   8   8   8   8   8   8   8   8   8   8   8   8   8   8\n",
      "centre_learning_many\n",
      "seed                   0   1   2   3   4   5   6   7   8   9   10  11  12  13  14  15  16  17  18  19  20  21  22  23  24\n",
      "FP004-RP004-Probe      21  21  21  21  21  21  21  21  21  21  21  21  21  21  21  21  21  21  21  21  21  21  21  21  21\n",
      "FP001-RP001x-EvaGreen  21  21  21  21  21  21  21  21  21  21  21  21  21  21  21  21  21  21  21  21  21  21  21  21  21\n",
      "FP002-RP002x-EvaGreen  15  15  15  15  15  15  15  15  15  15  15  15  15  15  15  15  15  15  15  15  15  15  15  15  15\n",
      "FP001-RP001x-Probe     20  20  20  20  20  20  20  20  20  20  20  20  20  20  20  20  20  20  20  20  20  20  20  20  20\n",
      "FP005-FP001-Probe       8   8   8   8   8   8   8   8   8   8   8   8   8   8   8   8   8   8   8   8   8   8   8   8   8\n",
      "RP001x-FP002-Probe     19  19  19  19  19  19  19  19  19  19  19  19  19  19  19  19  19  19  19  19  19  19  19  19  19\n",
      "RP002x-FP005-Probe      8   8   8   8   8   8   8   8   8   8   8   8   8   8   8   8   8   8   8   8   8   8   8   8   8\n",
      "FP005-FP004-EvaGreen    8   8   8   8   8   8   8   8   8   8   8   8   8   8   8   8   8   8   8   8   8   8   8   8   8\n",
      "RP002x-FP002-EvaGreen   2   2   2   2   2   2   2   2   2   2   2   2   2   2   2   2   2   2   2   2   2   2   2   2   2\n",
      "FP001-RP004-EvaGreen    7   7   7   7   7   7   7   7   7   7   7   7   7   7   7   7   7   7   7   7   7   7   7   7   7\n",
      "FP002-RP004-EvaGreen    3   3   3   3   3   3   3   3   3   3   3   3   3   3   3   3   3   3   3   3   3   3   3   3   3\n",
      "FP004-FP005-Probe       8   8   8   8   8   8   8   8   8   8   8   8   8   8   8   8   8   8   8   8   8   8   8   8   8\n",
      "RP008x-FP005-Probe      8   8   8   8   8   8   8   8   8   8   8   8   8   8   8   8   8   8   8   8   8   8   8   8   8\n",
      "FP005-FP001-EvaGreen   14  14  14  14  14  14  14  14  14  14  14  14  14  14  14  14  14  14  14  14  14  14  14  14  14\n",
      "RP002x-FP004-EvaGreen   6   6   6   6   6   6   6   6   6   6   6   6   6   6   6   6   6   6   6   6   6   6   6   6   6\n",
      "RP008x-FP001-EvaGreen   8   8   8   8   8   8   8   8   8   8   8   8   8   8   8   8   8   8   8   8   8   8   8   8   8\n",
      "0_point_start_learning_many\n",
      "seed                   1   2   3   4   5   6   7   8   9   10  11  12  13  14  15  16  17  18  19  20  21  22  23  24\n",
      "FP004-RP004-Probe      20  20  20  20  20  20  20  20  20  20  20  20  20  20  20  20  20  20  20  20  20  20  20  20\n",
      "FP001-RP001x-EvaGreen  20  20  20  20  20  20  20  20  20  20  20  20  20  20  20  20  20  20  20  20  20  20  20  20\n",
      "FP002-RP002x-EvaGreen  15  15  15  15  15  15  15  15  15  15  15  15  15  15  15  15  15  15  15  15  15  15  15  15\n",
      "FP001-RP001x-Probe     20  20  20  20  20  20  20  20  20  20  20  20  20  20  20  20  20  20  20  20  20  20  20  20\n",
      "FP005-FP001-Probe       8   8   8   8   8   8   8   8   8   8   8   8   8   8   8   8   8   8   8   8   8   8   8   8\n",
      "RP001x-FP002-Probe     19  19  19  19  19  19  19  19  19  19  19  19  19  19  19  19  19  19  19  19  19  19  19  19\n",
      "RP002x-FP005-Probe      8   8   8   8   8   8   8   8   8   8   8   8   8   8   8   8   8   8   8   8   8   8   8   8\n",
      "FP005-FP004-EvaGreen    8   8   8   8   8   8   8   8   8   8   8   8   8   8   8   8   8   8   8   8   8   8   8   8\n",
      "RP002x-FP002-EvaGreen   2   2   2   2   2   2   2   2   2   2   2   2   2   2   2   2   2   2   2   2   2   2   2   2\n",
      "FP001-RP004-EvaGreen    7   7   7   7   7   7   7   7   7   7   7   7   7   7   7   7   7   7   7   7   7   7   7   7\n",
      "FP002-RP004-EvaGreen    3   3   3   3   3   3   3   3   3   3   3   3   3   3   3   3   3   3   3   3   3   3   3   3\n",
      "FP004-FP005-Probe       8   8   8   8   8   8   8   8   8   8   8   8   8   8   8   8   8   8   8   8   8   8   8   8\n",
      "RP008x-FP005-Probe      8   8   8   8   8   8   8   8   8   8   8   8   8   8   8   8   8   8   8   8   8   8   8   8\n",
      "FP005-FP001-EvaGreen   14  14  14  14  14  14  14  14  14  14  14  14  14  14  14  14  14  14  14  14  14  14  14  14\n",
      "RP002x-FP004-EvaGreen   6   6   6   6   6   6   6   6   6   6   6   6   6   6   6   6   6   6   6   6   6   6   6   6\n",
      "RP008x-FP001-EvaGreen   8   8   8   8   8   8   8   8   8   8   8   8   8   8   8   8   8   8   8   8   8   8   8   8\n"
     ]
    }
   ],
   "source": [
    "for key, df in res_dfs.items():\n",
    "    print(key)\n",
    "    counts_df = pd.DataFrame(columns=res_dfs[f'{starting_points[0]}_learning_1']['PrimerPairReporter'].unique())\n",
    "    for ppr in df['PrimerPairReporter'].unique():\n",
    "        df_ = df[(df['PrimerPairReporter'] == ppr)  & (df['model'] == 'mo_indi')][['BP', 'GC', 'seed']].drop_duplicates()\n",
    "        counts = df_.value_counts('seed').to_frame().sort_values(by='seed')\n",
    "        counts_df[ppr] = df_.value_counts('seed').to_frame().sort_values(by='seed')\n",
    "        # seeds_df[key][ppr] = len(df_['seed'].unique())\n",
    "    print(counts_df.T.to_string())"
   ],
   "metadata": {
    "collapsed": false,
    "pycharm": {
     "name": "#%%\n"
    }
   }
  },
  {
   "cell_type": "code",
   "execution_count": 45,
   "outputs": [],
   "source": [
    "df = res_dfs['centre_learning_many']\n",
    "\n",
    "count_df = df[['PrimerPairReporter', 'seed', 'BP', 'GC']].drop_duplicates()\n",
    "counts = count_df.value_counts(['PrimerPairReporter', 'seed']).to_frame().sort_values(by=['PrimerPairReporter','seed'])\n"
   ],
   "metadata": {
    "collapsed": false,
    "pycharm": {
     "name": "#%%\n"
    }
   }
  },
  {
   "cell_type": "markdown",
   "source": [
    "Calculate the regret"
   ],
   "metadata": {
    "collapsed": false
   }
  },
  {
   "cell_type": "code",
   "execution_count": 49,
   "outputs": [],
   "source": [
    "stzd = True\n",
    "max_iter = 20\n",
    "\n",
    "if len(params) >1:\n",
    "    regret_metric = 'combined regret'\n",
    "else:\n",
    "    regret_metric = 'regret r'\n",
    "starting_point_names = {'centre':'Centre', '0_point_start':'Model\\'s Choice'}\n",
    "learning_type_names = {'learning_many':'Learning Many', 'learning_1':'Learning One\\nat a Time'}\n",
    "plot_minmax = True\n",
    "regrets_all = {}\n",
    "regret_names = []\n",
    "for name, df in res_dfs.items():\n",
    "    best_points = fns.get_best_points_constrained(params, df, stzd=stzd, log_t=False)\n",
    "    regret_df_all = fns.calculate_regret(df, params, best_points, stzd=stzd, constrained=True,\n",
    "                                         diff_from_target_only=False)\n",
    "    regret_df_all = regret_df_all[regret_df_all['iteration'] <=max_iter]\n",
    "    regrets_all[name] = regret_df_all"
   ],
   "metadata": {
    "collapsed": false,
    "pycharm": {
     "name": "#%%\n"
    }
   }
  },
  {
   "cell_type": "code",
   "execution_count": 50,
   "outputs": [],
   "source": [
    "\n",
    "cumulative_regrets = {}\n",
    "for name, regret_df in regrets_all.items():\n",
    "\n",
    "    if 'r' in params and 'm' in params:\n",
    "        regret_names = ['combined regret']\n",
    "    else:\n",
    "        regret_names = [f'regret {param}' for param in params]\n",
    "\n",
    "    # if learning_type == 'learning many':\n",
    "    #     for seed in regret_df['seed'].unique():\n",
    "    #         temp_df = regret_df[regret_df['seed'] == seed]\n",
    "    #         if temp_df['iteration'].max() != max_iter:\n",
    "    #             regret_df= regret_df[regret_df['seed'] != seed]\n",
    "\n",
    "    regret_df = regret_df.sort_values('iteration')\n",
    "\n",
    "    # calculate the cumulative minimum regret and cumulative sum of regret\n",
    "\n",
    "    for model in regret_df['model'].unique():\n",
    "        for seed in regret_df['seed'].unique():\n",
    "            for ppr in regret_df['PrimerPairReporter'].unique():\n",
    "                for regret_name in regret_names:\n",
    "                    regret_df.loc[\n",
    "                        (regret_df['model'] == model) & (regret_df['seed'] == seed) & (\n",
    "                                    regret_df['PrimerPairReporter'] == ppr), f'{regret_name} cummin'] = \\\n",
    "                        regret_df.loc[(regret_df['model'] == model) & (regret_df['seed'] == seed) & (\n",
    "                                regret_df['PrimerPairReporter'] == ppr), regret_name].cummin()\n",
    "                    regret_df.loc[\n",
    "                        (regret_df['model'] == model) & (regret_df['seed'] == seed) & (\n",
    "                                    regret_df['PrimerPairReporter'] == ppr), f'{regret_name} cumsum'] = \\\n",
    "                        regret_df.loc[(regret_df['model'] == model) & (regret_df['seed'] == seed) & (\n",
    "                                regret_df['PrimerPairReporter'] == ppr), f'{regret_name} cummin'].cumsum()\n",
    "    cumulative_regrets[name] = regret_df\n"
   ],
   "metadata": {
    "collapsed": false,
    "pycharm": {
     "name": "#%%\n"
    }
   }
  },
  {
   "cell_type": "code",
   "execution_count": 51,
   "outputs": [],
   "source": [
    "regret_metrics = {}\n",
    "for name, regret_df in cumulative_regrets.items():\n",
    "\n",
    "    i_max = regret_df['iteration'].max() #.loc[regret_df['model'] =='avg',\n",
    "\n",
    "    for ppr in regret_df['PrimerPairReporter'].unique():\n",
    "\n",
    "        ppr_imax = regret_df.loc[regret_df['PrimerPairReporter'] == ppr, 'iteration'].to_numpy().max()\n",
    "        if ppr_imax == i_max:\n",
    "            pass\n",
    "        else:\n",
    "            extra_rows = pd.concat([regret_df.loc[(regret_df['PrimerPairReporter'] == ppr)\n",
    "                                            & (regret_df['iteration'] == ppr_imax)]] * int((i_max - ppr_imax)))\n",
    "            extra_rows = extra_rows.sort_values(['model', 'seed'])\n",
    "            if ppr_imax < (i_max - 1):\n",
    "                test = np.arange(ppr_imax + 1, i_max + 1).tolist() * int(len(extra_rows)/(i_max-ppr_imax))\n",
    "                extra_rows['iteration'] = np.arange(ppr_imax + 1, i_max + 1).tolist() \\\n",
    "                                          * int(len(extra_rows)/(i_max-ppr_imax))\n",
    "                regret_df = regret_df.append(extra_rows)\n",
    "            elif ppr_imax == (i_max - 1):\n",
    "                extra_rows['iteration'] = i_max\n",
    "                regret_df = regret_df.append(extra_rows)\n",
    "            else:\n",
    "                pass\n",
    "    # if 'learning many' in name:\n",
    "    df = regret_df.groupby(['model', 'iteration', 'seed']).mean().reset_index()\n",
    "\n",
    "    df2 = df.groupby(['model', 'iteration']).mean().reset_index()\n",
    "    df3 = df.groupby(['model', 'iteration']).median().reset_index()\n",
    "    df4 = df.groupby(['model', 'iteration']).quantile(0.05).reset_index()\n",
    "    df5 = df.groupby(['model', 'iteration']).quantile(0.95).reset_index()\n",
    "    metrics = ['mean', 'median', 'min', 'max']\n",
    "\n",
    "    dfs = [df2, df3, df4, df5]\n",
    "    for i in range(len(dfs)):\n",
    "        for col in [f'{regret_name} {met}' for regret_name in regret_names for met in ['cummin', 'cumsum']]:\n",
    "            dfs[i][f'{metrics[i]} {col}'] = dfs[i][col]\n",
    "        dfs[i] = dfs[i].drop(\n",
    "            columns=[f'{regret_name} {met}' for regret_name in regret_names for met in ['cummin', 'cumsum']]\n",
    "                    + ['seed', 'index'] + regret_names)\n",
    "    regret_df = dfs[0].merge(dfs[1], on=['model', 'iteration'])\n",
    "    regret_df = regret_df.merge(dfs[2], on=['model', 'iteration'])\n",
    "    regret_df = regret_df.merge(dfs[3], on=['model', 'iteration'])\n",
    "\n",
    "    # else:\n",
    "    #\n",
    "    #     # calculate the mean, min, and max of the cumulative minimum regret and cumulative sum of\n",
    "    #     # regret across all seeds for each primer pair reporter\n",
    "    #\n",
    "    #     df4 = regret_df.groupby(['model', 'iteration', 'PrimerPairReporter']).mean().reset_index()\n",
    "    #     df7 = regret_df.groupby(['model', 'iteration', 'PrimerPairReporter']).median().reset_index()\n",
    "    #     df5 = regret_df.groupby(['model', 'iteration', 'PrimerPairReporter']).quantile(0.05).reset_index()\n",
    "    #     df6 = regret_df.groupby(['model', 'iteration', 'PrimerPairReporter']).quantile(0.95).reset_index()\n",
    "    #\n",
    "    #     # create new dataframe which combines these metrics\n",
    "    #\n",
    "    #     metrics = ['mean', 'min', 'max', 'median']\n",
    "    #     dfs = [df4, df5, df6, df7]\n",
    "    #     for i in range(len(dfs)):\n",
    "    #         for col in [f'{regret_name} {met}' for regret_name in regret_names for met in ['cummin', 'cumsum']]:\n",
    "    #             dfs[i][f'{metrics[i]} {col}'] = dfs[i][col]\n",
    "    #         dfs[i] = dfs[i].drop(\n",
    "    #             columns=[f'{regret_name} {met}' for regret_name in regret_names for met in ['cummin', 'cumsum']]\n",
    "    #                     + ['seed', 'index'] + regret_names)\n",
    "    #\n",
    "    #     regret_df = dfs[0].merge(dfs[1], on=['model', 'iteration', 'PrimerPairReporter'])\n",
    "    #     regret_df = regret_df.merge(dfs[2], on=['model', 'iteration', 'PrimerPairReporter'])\n",
    "    #     regret_df = regret_df.merge(dfs[3], on=['model', 'iteration', 'PrimerPairReporter'])\n",
    "\n",
    "\n",
    "    regret_df = regret_df.groupby(['model', 'iteration']).mean().reset_index()\n",
    "    regret_metrics[name] = regret_df"
   ],
   "metadata": {
    "collapsed": false,
    "pycharm": {
     "name": "#%%\n"
    }
   }
  },
  {
   "cell_type": "code",
   "execution_count": 52,
   "outputs": [
    {
     "data": {
      "text/plain": "<Figure size 560.63x392.441 with 4 Axes>",
      "image/png": "[encoded data removed]"
     },
     "metadata": {},
     "output_type": "display_data"
    }
   ],
   "source": [
    "linestyles = {'lmc':'dashdot', 'mo_indi': 'dotted', 'lvm':  'solid' , 'avg': 'dashed' }\n",
    "def get_colors():\n",
    "    cols = plt.rcParams['axes.prop_cycle'].by_key()['color']\n",
    "    cols = ['#253494', '#2c7fb8','#41b6c4',  '#a1dab4']\n",
    "    colors = {'lmc': cols[0], 'mo_indi': cols[3], 'lvm': cols[1], 'avg': cols[2]}\n",
    "    return colors\n",
    "\n",
    "starting_point_names = {'centre':'Centre', '0_point_start':'Model\\'s Choice'}\n",
    "learning_type_names = {'learning many':'Many Surfaces', 'learning 1':'One at a Time'}\n",
    "labels = {'mo_indi':'MOGP', 'avg':'AvgGP', 'lmc': 'LMC', 'lvm':'LVMOGP'}\n",
    "\n",
    "fig, axs = plt.subplots(nrows=2, ncols=2, figsize=[page_width, page_width*0.7])\n",
    "colors = fns.get_colors()\n",
    "plot_minmax=True\n",
    "starting_point_names = {'centre':'Centre', '0_point_start':'Model\\'s Choice'}\n",
    "learning_type_names = {'learning_many':'Many Surfaces', 'learning_1':'One at a Time'}\n",
    "labels = {'mo_indi':'MOGP', 'avg':'AvgGP', 'lmc': 'LMC', 'lvm':'LVMOGP'}\n",
    "for name, regret_df in regret_metrics.items():\n",
    "    if 'centre' in name:\n",
    "        j = 0\n",
    "    elif '0_point_start' in name:\n",
    "            j=1\n",
    "    if 'learning_many' in name:\n",
    "        i=0\n",
    "        learning_type = 'learning_many'\n",
    "    elif 'learning_1' in name:\n",
    "        i=1\n",
    "        learning_type = 'learning_1'\n",
    "\n",
    "    for model in ['mo_indi', 'avg', 'lmc', 'lvm']:\n",
    "        df = regret_df[(regret_df['model'] == model) ].sort_values('iteration')\n",
    "        if (j==0) & (i==0):\n",
    "            label = labels[model]\n",
    "        else:\n",
    "            label = None\n",
    "        axs[j, i].plot(df['iteration'], df[f'mean {regret_metric} cumsum'], label=label,\n",
    "                       color=colors[model], linestyle=linestyles[model])\n",
    "        if plot_minmax:\n",
    "            axs[j, i].fill_between(df['iteration'], df[f'min {regret_metric} cumsum'],\n",
    "                                   df[f'max {regret_metric} cumsum'],\n",
    "                                   alpha=0.2, color=colors[model])\n",
    "    axs[0, i].set_title(f'{learning_type_names[learning_type]}', fontsize=10)\n",
    "    axs[j, i].set_ylabel(f'Cumulative Regret')\n",
    "    axs[1, i].set_xlabel('no. iterations')\n",
    "    axs[0, i].set_xlabel('no. iterations')\n",
    "\n",
    "rows = [f'{row}' for row in starting_point_names.values()]\n",
    "for ax, row in zip(axs[:,0], rows):\n",
    "    ax.annotate(row, xy=(0, 0.5), xytext=(-ax.yaxis.labelpad - 5, 0),\n",
    "                xycoords=ax.yaxis.label, textcoords='offset points',\n",
    "                fontsize=10, ha='right', va='center', rotation=90)\n",
    "for ax in axs[:, 1]:\n",
    "    ax.set_xlim(0, 10)\n",
    "for ax in axs[:, 0]:\n",
    "    ax.set_xlim(0, 20)\n",
    "\n",
    "        # plt.suptitle('Cumulative Regret')\n",
    "        # axs[j, i].legend()\n",
    "\n",
    "fig.legend(loc=\"lower center\", ncols=4,\n",
    "               bbox_to_anchor=(0.53, -0.08))\n",
    "plt.tight_layout()\n",
    "plt.savefig(f'plots/retroBO_cumulative_regret_all_{param_name}.pdf', bbox_inches='tight')\n",
    "plt.savefig(f'plots/retroBO_cumulative_regret_all_{param_name}.svg', bbox_inches='tight')\n"
   ],
   "metadata": {
    "collapsed": false,
    "pycharm": {
     "name": "#%%\n"
    }
   }
  },
  {
   "cell_type": "code",
   "execution_count": 53,
   "outputs": [
    {
     "data": {
      "text/plain": "<Figure size 280.315x224.252 with 4 Axes>",
      "image/png": "[encoded data removed]"
     },
     "metadata": {},
     "output_type": "display_data"
    }
   ],
   "source": [
    "\n",
    "\n",
    "fig, axs = plt.subplots(nrows=2, ncols=2, figsize=[0.5*page_width, 0.4*page_width])\n",
    "colors = fns.get_colors()\n",
    "plot_minmax=True\n",
    "\n",
    "for name, regret_df in regret_metrics.items():\n",
    "\n",
    "    if 'centre' in name:\n",
    "        j = 0\n",
    "    elif '0_point_start' in name:\n",
    "        j=1\n",
    "    if 'learning_many' in name:\n",
    "        i=0\n",
    "        learning_type = 'learning_many'\n",
    "    elif 'learning_1' in name:\n",
    "        i=1\n",
    "        learning_type = 'learning_1'\n",
    "    for model in ['mo_indi', 'avg', 'lmc', 'lvm']:\n",
    "        df = regret_df[(regret_df['model'] == model) ].sort_values('iteration')\n",
    "        if (j==0) & (i==0):\n",
    "            label = labels[model]\n",
    "        else:\n",
    "            label = None\n",
    "        axs[j, i].plot(df['iteration'], df[f'mean {regret_metric} cumsum'], label=label,\n",
    "                       color=colors[model], linestyle=linestyles[model])\n",
    "        if plot_minmax:\n",
    "            axs[j, i].fill_between(df['iteration'], df[f'min {regret_metric} cumsum'],\n",
    "                                   df[f'max {regret_metric} cumsum'],\n",
    "                                   alpha=0.2, color=colors[model])\n",
    "        # axs[0, i].set_title(f'{learning_type_names[learning_type]}', fontsize=10)\n",
    "\n",
    "for ax in axs[:, 1]:\n",
    "    ax.set_xlim(-0.5, 10)\n",
    "    ax.set_xticks([0, 5, 10])\n",
    "for ax in axs[:, 0]:\n",
    "    ax.set_xlim(-0.5, 20)\n",
    "    ax.set_xticks([0, 5, 10, 15, 20])\n",
    "\n",
    "for ax in axs[0, :]:\n",
    "    ax.set_ylim(0.5, 1.75)\n",
    "    ax.set_yticks([0.5, 1,  1.5, ])\n",
    "for ax in axs[1, :]:\n",
    "    ax.set_ylim(0, 3)\n",
    "    ax.set_yticks([0,  1, 2, 3])\n",
    "\n",
    "rows = [f'{row}' for row in starting_point_names.values()]\n",
    "\n",
    "fig.legend(loc=\"lower center\", ncols=2,\n",
    "               bbox_to_anchor=(0.5, -0.2))\n",
    "fig.supxlabel('no. iterations')\n",
    "plt.subplots_adjust(hspace=0.4, wspace=0.4, left=None, bottom=0.18, right=None, top=1)\n",
    "\n",
    "plt.tight_layout()\n",
    "plt.savefig(f'plots/retroBO_cumulative_regret_both_half_wlines.pdf', bbox_inches='tight')\n",
    "plt.savefig(f'plots/retroBO_cumulative_regret_both_half_wlines.svg', bbox_inches='tight')"
   ],
   "metadata": {
    "collapsed": false,
    "pycharm": {
     "name": "#%%\n"
    }
   }
  },
  {
   "cell_type": "code",
   "execution_count": 54,
   "outputs": [
    {
     "name": "stdout",
     "output_type": "stream",
     "text": [
      "centre_learning_1\n",
      "first to zero\n",
      "  mo_indi  avg  lmc  lvm\n",
      "0     141  137  153  217\n",
      "lowest cumulative regret\n",
      "  mo_indi  avg  lmc  lvm\n",
      "0     173  118  139  204\n",
      "0_point_start_learning_1\n",
      "first to zero\n",
      "  mo_indi  avg lmc  lvm\n",
      "0      68  100  74  202\n",
      "lowest cumulative regret\n",
      "  mo_indi avg lmc  lvm\n",
      "0      99  62  43  172\n",
      "centre_learning_many\n",
      "first to zero\n",
      "  mo_indi  avg  lmc  lvm\n",
      "0     142  157  123  165\n",
      "lowest cumulative regret\n",
      "  mo_indi  avg  lmc  lvm\n",
      "0     180  118  100  163\n",
      "0_point_start_learning_many\n",
      "first to zero\n",
      "  mo_indi  avg  lmc  lvm\n",
      "0      89  122  101  111\n",
      "lowest cumulative regret\n",
      "  mo_indi  avg lmc  lvm\n",
      "0      85  103  84  111\n"
     ]
    }
   ],
   "source": [
    "if len(params) >1:\n",
    "    regret_metric = 'combined regret'\n",
    "else:\n",
    "    regret_metric = 'regret r'\n",
    "win_dfs = {}\n",
    "win_dfs_cum_regrets = {}\n",
    "# for i, learning_type in enumerate(['learning many', 'learning 1']):\n",
    "#     for j, starting_point in enumerate(starting_points):\n",
    "for name, df in res_dfs.items():\n",
    "    best_points = fns.get_best_points_constrained(params, df, stzd=stzd, log_t=False)\n",
    "    regret_df1 = fns.calculate_regret(df, params, best_points, stzd=stzd, constrained=True)\n",
    "    regret_df1 =regret_df1[regret_df1['iteration']<= max_iter]\n",
    "    win_df, win_df_totals = fns.get_win_counts(regret_df1, regret_metric)\n",
    "    win_df_cum_regret, win_df_totals_cum_regret = fns.get_cum_regret_table(regret_df1, regret_name=regret_metric)\n",
    "    win_dfs[name] = win_df\n",
    "    win_dfs_cum_regrets[name] = win_df_cum_regret\n",
    "    print(name)\n",
    "    print('first to zero')\n",
    "    print(win_df_totals[['mo_indi','avg','lmc', 'lvm']])\n",
    "    print('lowest cumulative regret')\n",
    "    print(win_df_totals_cum_regret[['mo_indi','avg',  'lmc', 'lvm']])"
   ],
   "metadata": {
    "collapsed": false,
    "pycharm": {
     "name": "#%%\n"
    }
   }
  },
  {
   "cell_type": "markdown",
   "source": [
    "Average number of iterations to best best_points"
   ],
   "metadata": {
    "collapsed": false
   }
  },
  {
   "cell_type": "code",
   "execution_count": 55,
   "outputs": [
    {
     "name": "stdout",
     "output_type": "stream",
     "text": [
      "centre_learning_1 FP004-RP004-Probe lmc has 2 NaNs\n",
      "centre_learning_1 FP004-RP004-Probe lvm has 20 NaNs\n",
      "centre_learning_1 FP004-RP004-Probe mo_indi has 1 NaNs\n",
      "centre_learning_1\n",
      "       PrimerPairReporter  avg   lmc   lvm mo_indi\n",
      "0   FP001-RP001x-EvaGreen  5.0   8.3   4.0     4.0\n",
      "1      FP001-RP001x-Probe  4.0  4.85   9.3     7.0\n",
      "2    FP001-RP004-EvaGreen  6.0   3.4   1.9     5.0\n",
      "3   FP002-RP002x-EvaGreen  1.0   3.4  1.85     1.0\n",
      "4    FP002-RP004-EvaGreen  1.0   1.0   1.0     1.0\n",
      "5       FP004-FP005-Probe  4.0   2.0   4.4     6.0\n",
      "6       FP004-RP004-Probe  7.0   NaN   NaN     NaN\n",
      "7    FP005-FP001-EvaGreen  1.0   2.0  1.65     1.0\n",
      "8       FP005-FP001-Probe  7.0   4.9   3.8     2.0\n",
      "9    FP005-FP004-EvaGreen  0.0   0.0   0.0     0.0\n",
      "10     RP001x-FP002-Probe  4.0  2.55   1.0     4.9\n",
      "11  RP002x-FP002-EvaGreen  1.0   1.0   1.0     1.0\n",
      "12  RP002x-FP004-EvaGreen  3.0  1.85   1.0     3.0\n",
      "13     RP002x-FP005-Probe  0.0   0.0   0.0     0.0\n",
      "14  RP008x-FP001-EvaGreen  5.0  3.05   3.1     4.0\n",
      "15     RP008x-FP005-Probe  6.0   4.0   3.0     5.0\n",
      "avg        3.200000\n",
      "lmc        2.820000\n",
      "lvm        2.466667\n",
      "mo_indi    2.993333\n",
      "dtype: float64\n",
      "0_point_start_learning_1 FP004-RP004-Probe lmc has 2 NaNs\n",
      "0_point_start_learning_1 FP004-RP004-Probe lvm has 18 NaNs\n",
      "0_point_start_learning_1 FP004-RP004-Probe mo_indi has 3 NaNs\n",
      "0_point_start_learning_1\n",
      "       PrimerPairReporter  avg   lmc   lvm mo_indi\n",
      "0   FP001-RP001x-EvaGreen  4.0  8.25   4.0     4.0\n",
      "1      FP001-RP001x-Probe  3.0  5.75  7.95    6.75\n",
      "2    FP001-RP004-EvaGreen  6.0   3.5   1.0     4.6\n",
      "3   FP002-RP002x-EvaGreen  0.0  3.25   0.8    1.15\n",
      "4    FP002-RP004-EvaGreen  0.0   1.0   0.0    1.05\n",
      "5       FP004-FP005-Probe  3.0  1.85   2.6    5.85\n",
      "6       FP004-RP004-Probe  7.0   NaN   NaN     NaN\n",
      "7    FP005-FP001-EvaGreen  1.0   2.1  1.55     1.0\n",
      "8       FP005-FP001-Probe  7.0   5.1   2.2     1.9\n",
      "9    FP005-FP004-EvaGreen  0.0   0.4   2.0     0.4\n",
      "10     RP001x-FP002-Probe  3.0  2.05  0.25     4.6\n",
      "11  RP002x-FP002-EvaGreen  1.0  0.95   0.0     1.0\n",
      "12  RP002x-FP004-EvaGreen  2.0   1.9  0.15     3.0\n",
      "13     RP002x-FP005-Probe  1.0   0.4   3.5    1.05\n",
      "14  RP008x-FP001-EvaGreen  5.0   3.0   1.1     4.0\n",
      "15     RP008x-FP005-Probe  6.0   4.0  2.65     5.0\n",
      "avg        2.800000\n",
      "lmc        2.900000\n",
      "lvm        1.983333\n",
      "mo_indi    3.023333\n",
      "dtype: float64\n",
      "centre_learning_many FP004-RP004-Probe lmc has 13 NaNs\n",
      "centre_learning_many FP004-RP004-Probe lvm has 20 NaNs\n",
      "centre_learning_many\n",
      "       PrimerPairReporter    avg   lmc   lvm mo_indi\n",
      "0   FP001-RP001x-EvaGreen    7.9   9.6   5.0     8.0\n",
      "1      FP001-RP001x-Probe   5.85  6.95   4.2     2.0\n",
      "2    FP001-RP004-EvaGreen   3.05   1.0   1.0     5.0\n",
      "3   FP002-RP002x-EvaGreen   4.15   2.0   2.0     1.0\n",
      "4    FP002-RP004-EvaGreen   1.05   2.0   2.0     1.0\n",
      "5       FP004-FP005-Probe   1.25   4.8  2.05     3.0\n",
      "6       FP004-RP004-Probe  15.35   NaN   NaN    20.0\n",
      "7    FP005-FP001-EvaGreen    5.5   2.0   4.0     1.0\n",
      "8       FP005-FP001-Probe    7.0  2.25  5.55     1.0\n",
      "9    FP005-FP004-EvaGreen    0.0   0.0   0.0     0.0\n",
      "10     RP001x-FP002-Probe   2.05   2.0   1.0     3.0\n",
      "11  RP002x-FP002-EvaGreen    1.0   1.0   1.0     1.0\n",
      "12  RP002x-FP004-EvaGreen   2.05   2.0   2.0     3.0\n",
      "13     RP002x-FP005-Probe    0.0   0.0   0.0     0.0\n",
      "14  RP008x-FP001-EvaGreen   6.05   3.0   2.0     3.0\n",
      "15     RP008x-FP005-Probe   2.05   5.7  3.85     5.0\n",
      "avg        3.263333\n",
      "lmc        2.953333\n",
      "lvm        2.376667\n",
      "mo_indi    2.466667\n",
      "dtype: float64\n",
      "0_point_start_learning_many FP004-RP004-Probe lmc has 8 NaNs\n",
      "0_point_start_learning_many FP004-RP004-Probe lvm has 20 NaNs\n",
      "0_point_start_learning_many FP004-RP004-Probe mo_indi has 15 NaNs\n",
      "0_point_start_learning_many\n",
      "       PrimerPairReporter  avg   lmc  lvm mo_indi\n",
      "0   FP001-RP001x-EvaGreen  7.0   6.2  4.0     5.7\n",
      "1      FP001-RP001x-Probe  4.0  5.75  7.0    8.65\n",
      "2    FP001-RP004-EvaGreen  1.0  2.65  0.0    4.15\n",
      "3   FP002-RP002x-EvaGreen  3.0  4.45  3.0     5.3\n",
      "4    FP002-RP004-EvaGreen  0.0   1.2  1.0     0.5\n",
      "5       FP004-FP005-Probe  0.0   2.0  3.0     2.2\n",
      "6       FP004-RP004-Probe  1.0   NaN  NaN     NaN\n",
      "7    FP005-FP001-EvaGreen  3.0   4.2  0.0    3.55\n",
      "8       FP005-FP001-Probe  7.0  2.55  4.0    2.45\n",
      "9    FP005-FP004-EvaGreen  1.0  1.25  0.0    1.75\n",
      "10     RP001x-FP002-Probe  2.0   5.7  0.0     2.1\n",
      "11  RP002x-FP002-EvaGreen  1.0   0.5  1.0    0.75\n",
      "12  RP002x-FP004-EvaGreen  1.0   3.1  2.0    2.55\n",
      "13     RP002x-FP005-Probe  5.0  3.55  3.0    4.45\n",
      "14     RP008x-FP005-Probe  4.0  2.25  1.0    3.15\n",
      "15  RP008x-FP001-EvaGreen  8.0  3.05  3.0     3.6\n",
      "avg        3.133333\n",
      "lmc        3.226667\n",
      "lvm        2.133333\n",
      "mo_indi    3.390000\n",
      "dtype: float64\n"
     ]
    }
   ],
   "source": [
    "import math\n",
    "\n",
    "if len(params) >1:\n",
    "    regret_metric = 'combined regret'\n",
    "else:\n",
    "    regret_metric = 'regret r'\n",
    "win_dfs = {}\n",
    "win_dfs_cum_regrets = {}\n",
    "\n",
    "for name, df in res_dfs.items():\n",
    "    best_points = fns.get_best_points_constrained(params, df, stzd=stzd, log_t=False)\n",
    "    regret_df1 = fns.calculate_regret(df, params, best_points, stzd=stzd, constrained=True)\n",
    "\n",
    "    df = regret_df1\n",
    "    avg_iter_df = pd.DataFrame(columns=['PrimerPairReporter'] + list(df['model'].unique()))\n",
    "    avg_iter_df['PrimerPairReporter'] = df['PrimerPairReporter'].unique()\n",
    "    for ppr in df['PrimerPairReporter'].unique():\n",
    "        zero_regret_dict = {model:[] for model in df['model'].unique()}\n",
    "        for seed in range(1, 21):\n",
    "            temp_df = df[(df['PrimerPairReporter'] == ppr) & (df['seed'] == seed)]\n",
    "            if len(temp_df) < 1:\n",
    "                pass\n",
    "            else:\n",
    "                for model in temp_df['model'].unique():\n",
    "                    temp_1 = temp_df[(temp_df['model'] == model) & (temp_df[regret_metric] <= 1e-8)]\n",
    "                    temp_2 = temp_df[(temp_df['model'] == model) & (temp_df['regret r'] <= 0.05)\n",
    "                                         & (temp_df['regret m'] < 1e-8)]\n",
    "\n",
    "                    temp_3 = pd.concat([temp_1, temp_2])\n",
    "                    zero_regret_dict[model].append(np.min(temp_3['iteration']))\n",
    "        for model in df['model'].unique():\n",
    "            if np.isnan(zero_regret_dict[model]).any():\n",
    "                print(f'{name} {ppr} {model} has {np.isnan(zero_regret_dict[model]).sum()} NaNs')\n",
    "            avg_iter_df.loc[avg_iter_df['PrimerPairReporter'] == ppr, model] = np.mean(zero_regret_dict[model])\n",
    "    print(name)\n",
    "    print(avg_iter_df)\n",
    "    print(avg_iter_df.dropna(subset=list(df['model'].unique())).mean())"
   ],
   "metadata": {
    "collapsed": false,
    "pycharm": {
     "name": "#%%\n"
    }
   }
  },
  {
   "cell_type": "markdown",
   "source": [
    "\n",
    "Below gives a dataframe of the regret of the first points"
   ],
   "metadata": {
    "collapsed": false
   }
  },
  {
   "cell_type": "code",
   "execution_count": 56,
   "outputs": [
    {
     "name": "stdout",
     "output_type": "stream",
     "text": [
      "      model starting point & learning type      mean       min       max\n",
      "0       avg              centre_learning_1  0.551191  0.551191  0.551191\n",
      "1       lmc              centre_learning_1  0.551191  0.551191  0.551191\n",
      "2       lvm              centre_learning_1  0.551191  0.551191  0.551191\n",
      "3   mo_indi              centre_learning_1  0.551191  0.551191  0.551191\n",
      "4       avg       0_point_start_learning_1  0.576148  0.576148  0.576148\n",
      "5       lmc       0_point_start_learning_1  0.568577  0.454511  0.726015\n",
      "6       lvm       0_point_start_learning_1  0.396105  0.336679  0.460926\n",
      "7   mo_indi       0_point_start_learning_1  0.584609  0.503526  0.707510\n",
      "8       avg           centre_learning_many  0.551191  0.551191  0.551191\n",
      "9       lmc           centre_learning_many  0.551191  0.551191  0.551191\n",
      "10      lvm           centre_learning_many  0.551191  0.551191  0.551191\n",
      "11  mo_indi           centre_learning_many  0.551191  0.551191  0.551191\n",
      "12      avg    0_point_start_learning_many  0.501729  0.501729  0.501729\n",
      "13      lmc    0_point_start_learning_many  0.829618  0.511270  1.146283\n",
      "14      lvm    0_point_start_learning_many  0.538233  0.538233  0.538233\n",
      "15  mo_indi    0_point_start_learning_many  0.772061  0.484715  1.109741\n",
      "lvm only:\n",
      "   model starting point & learning type      mean       min       max\n",
      "2    lvm              centre_learning_1  0.551191  0.551191  0.551191\n",
      "6    lvm       0_point_start_learning_1  0.396105  0.336679  0.460926\n",
      "10   lvm           centre_learning_many  0.551191  0.551191  0.551191\n",
      "14   lvm    0_point_start_learning_many  0.538233  0.538233  0.538233\n"
     ]
    }
   ],
   "source": [
    "first_regret_df = pd.DataFrame(columns=['model', 'starting point & learning type', 'mean', 'min', 'max'])\n",
    "first_regret_df['model'] = ['avg', 'mo_indi', 'lmc', 'lvm'] * 4\n",
    "first_regret_df['starting point'] = ['centre'] * 4 + ['0_point_start'] * 4 + ['centre'] * 4 + ['0_point_start'] * 4\n",
    "first_regret_df['learning type'] = ['learning many'] * 8 + ['learning 1'] * 8\n",
    "dfs = []\n",
    "for name, regret_df in regret_metrics.items():\n",
    "    if 'not random' in name:\n",
    "        pass\n",
    "        # regret_df = regrets[learning_type][starting_point]\n",
    "    else:\n",
    "        for mod_name in regret_df['model'].unique():\n",
    "            df_ = regret_df[(regret_df['model']==mod_name) & (regret_df['iteration'] == np.min(regret_df['iteration']))]\n",
    "            new_df = pd.DataFrame(data=[[mod_name, name, df_['mean combined regret cummin'].to_numpy()[0],\n",
    "                                         df_['min combined regret cummin'].to_numpy()[0],\n",
    "                                         df_['max combined regret cummin'].to_numpy()[0] ]],\n",
    "                                  columns=['model', 'starting point & learning type', 'mean', 'min', 'max'])\n",
    "            dfs.append(new_df)\n",
    "\n",
    "first_regret_df = pd.concat(dfs, ignore_index=True)\n",
    "print(first_regret_df.to_string())\n",
    "print('lvm only:')\n",
    "print(first_regret_df[first_regret_df['model']== 'lvm'].to_string())"
   ],
   "metadata": {
    "collapsed": false,
    "pycharm": {
     "name": "#%%\n"
    }
   }
  },
  {
   "cell_type": "code",
   "execution_count": 58,
   "outputs": [],
   "source": [],
   "metadata": {
    "collapsed": false,
    "pycharm": {
     "name": "#%%\n"
    }
   }
  }
 ],
 "metadata": {
  "kernelspec": {
   "display_name": "Python 3 (ipykernel)",
   "language": "python",
   "name": "python3"
  },
  "language_info": {
   "codemirror_mode": {
    "name": "ipython",
    "version": 2
   },
   "file_extension": ".py",
   "mimetype": "text/x-python",
   "name": "python",
   "nbconvert_exporter": "python",
   "pygments_lexer": "ipython2",
   "version": "2.7.6"
  }
 },
 "nbformat": 4,
 "nbformat_minor": 1
}
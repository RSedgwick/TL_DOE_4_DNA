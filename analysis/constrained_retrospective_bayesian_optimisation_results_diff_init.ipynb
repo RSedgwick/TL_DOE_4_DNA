{
 "cells": [
  {
   "cell_type": "code",
   "execution_count": 1,
   "metadata": {
    "collapsed": false,
    "pycharm": {
     "name": "#%%\n"
    }
   },
   "outputs": [],
   "source": [
    "import numpy as np\n",
    "import pathlib as pl\n",
    "import os\n",
    "import pandas as pd\n",
    "import warnings\n",
    "warnings.simplefilter(\"ignore\")\n",
    "from copy import copy\n",
    "import analysis.retroBO_analysis_functions as fns\n",
    "import pickle\n",
    "import matplotlib.pyplot as plt\n",
    "import matplotlib as mpl\n",
    "\n",
    "# mpl.style.use('mystyle.mplstyle')\n",
    "\n",
    "inch_conversion = 1/25.4\n",
    "page_width = 142.4 *inch_conversion\n",
    "column_width = 67.2* inch_conversion"
   ]
  },
  {
   "cell_type": "markdown",
   "metadata": {
    "collapsed": false
   },
   "source": [
    "# Notebook for Plotting Retrospective Bayesian Optimisation Results for Penalized Case\n",
    "\n",
    "This notebook is for plotting the results of the retrospective Bayesian optimisation on the PCR data."
   ]
  },
  {
   "cell_type": "markdown",
   "metadata": {
    "collapsed": false
   },
   "source": [
    "First specify the results to be plotted."
   ]
  },
  {
   "cell_type": "code",
   "execution_count": 2,
   "metadata": {
    "collapsed": false,
    "pycharm": {
     "name": "#%%\n"
    }
   },
   "outputs": [],
   "source": [
    "param_name = 'both' # which parameters\n",
    "save=False\n",
    "params = ['r', 'm']\n",
    "\n",
    "# random_if_none=False\n",
    "starting_points = ['centre', '0_point_start'] #, '0_point_start', 'centre',\n",
    "learning_types = ['learning_many', 'learning_1'] #'learning many',"
   ]
  },
  {
   "cell_type": "markdown",
   "metadata": {
    "collapsed": false
   },
   "source": [
    "Load the results"
   ]
  },
  {
   "cell_type": "code",
   "execution_count": 4,
   "metadata": {
    "collapsed": false,
    "pycharm": {
     "name": "#%%\n"
    }
   },
   "outputs": [],
   "source": [
    "res_dfs = {}\n",
    "results_path = pl.Path(os.getcwd()) / 'results' / 'penalized_bayes_opt_diff_inits'\n",
    "for key in ['centre_learning_many', '0_point_start_learning_many']:\n",
    "    res_dfs[key] = pd.read_csv(results_path /f'penalized_bayes_opt_diff_init_{key}.csv', index_col=0)\n"
   ]
  },
  {
   "cell_type": "markdown",
   "metadata": {
    "collapsed": false
   },
   "source": [
    "Check what data is missing"
   ]
  },
  {
   "cell_type": "code",
   "execution_count": 5,
   "metadata": {},
   "outputs": [
    {
     "name": "stdout",
     "output_type": "stream",
     "text": [
      "['many_FP004-RP004x-Probe_FP002-RP002x-Probe'\n",
      " 'many_FP004-RP004-EvaGreen_FP004-RP004x-EvaGreen']\n",
      "['many_FP004-RP004x-Probe_FP002-RP002x-Probe'\n",
      " 'many_FP004-RP004-EvaGreen_FP004-RP004x-EvaGreen']\n"
     ]
    }
   ],
   "source": [
    "new_res_dfs = {}\n",
    "for key, df in res_dfs.items():\n",
    "    initial_surfaces = df['init_surfaces'].unique()\n",
    "    print(initial_surfaces)\n",
    "    for surface in initial_surfaces:\n",
    "        new_res_dfs[f'{key}_{surface}'] = df[df['init_surfaces'] == surface]"
   ]
  },
  {
   "cell_type": "code",
   "execution_count": 7,
   "metadata": {},
   "outputs": [],
   "source": [
    "res_dfs = {}\n",
    "surface = 'FP004-RP004-EvaGreen_FP002-RP002x-Probe'\n",
    "results_path = pl.Path(os.getcwd()) / 'results' / 'penalized_bayes_opt'\n",
    "for key in ['centre_learning_many', '0_point_start_learning_many']:\n",
    "    new_res_dfs[f'{key}_many_{surface}'] = pd.read_csv(results_path / f'bayes_opt_{key}.csv', index_col=0)"
   ]
  },
  {
   "cell_type": "code",
   "execution_count": 24,
   "metadata": {},
   "outputs": [
    {
     "data": {
      "text/plain": [
       "dict_keys(['centre_learning_many_many_FP004-RP004x-Probe_FP002-RP002x-Probe', 'centre_learning_many_many_FP004-RP004-EvaGreen_FP004-RP004x-EvaGreen', '0_point_start_learning_many_many_FP004-RP004x-Probe_FP002-RP002x-Probe', '0_point_start_learning_many_many_FP004-RP004-EvaGreen_FP004-RP004x-EvaGreen', 'centre_learning_many_many_FP004-RP004-EvaGreen_FP002-RP002x-Probe', '0_point_start_learning_many_many_FP004-RP004-EvaGreen_FP002-RP002x-Probe'])"
      ]
     },
     "execution_count": 24,
     "metadata": {},
     "output_type": "execute_result"
    }
   ],
   "source": [
    "new_res_dfs.keys()"
   ]
  },
  {
   "cell_type": "code",
   "execution_count": 27,
   "metadata": {},
   "outputs": [],
   "source": [
    "res_dfs = new_res_dfs"
   ]
  },
  {
   "cell_type": "code",
   "execution_count": 28,
   "metadata": {},
   "outputs": [],
   "source": [
    "for key, df in res_dfs.items():\n",
    "    res_dfs[key] = df[(df['seed'] < 21) & (df['seed'] > 0)]\n"
   ]
  },
  {
   "cell_type": "code",
   "execution_count": 29,
   "metadata": {
    "collapsed": false,
    "pycharm": {
     "name": "#%%\n"
    }
   },
   "outputs": [
    {
     "name": "stdout",
     "output_type": "stream",
     "text": [
      "                      centre_learning_many_many_FP004-RP004x-Probe_FP002-RP002x-Probe  \\\n",
      "FP001-RP001x-EvaGreen                                                 20                \n",
      "FP002-RP002x-EvaGreen                                                 20                \n",
      "FP005-FP001-Probe                                                     20                \n",
      "RP001x-FP002-Probe                                                    20                \n",
      "RP002x-FP005-Probe                                                    20                \n",
      "FP005-FP004-EvaGreen                                                  20                \n",
      "FP004-RP004-Probe                                                     20                \n",
      "RP002x-FP002-EvaGreen                                                 20                \n",
      "FP001-RP004-EvaGreen                                                  20                \n",
      "FP002-RP004-EvaGreen                                                  20                \n",
      "FP004-FP005-Probe                                                     20                \n",
      "RP008x-FP005-Probe                                                    20                \n",
      "FP005-FP001-EvaGreen                                                  20                \n",
      "RP002x-FP004-EvaGreen                                                 20                \n",
      "RP008x-FP001-EvaGreen                                                 20                \n",
      "FP001-RP001x-Probe                                                    20                \n",
      "\n",
      "                      centre_learning_many_many_FP004-RP004-EvaGreen_FP004-RP004x-EvaGreen  \\\n",
      "FP001-RP001x-EvaGreen                                                 20                     \n",
      "FP002-RP002x-EvaGreen                                                 20                     \n",
      "FP005-FP001-Probe                                                     20                     \n",
      "RP001x-FP002-Probe                                                    20                     \n",
      "RP002x-FP005-Probe                                                    20                     \n",
      "FP005-FP004-EvaGreen                                                  20                     \n",
      "FP004-RP004-Probe                                                     20                     \n",
      "RP002x-FP002-EvaGreen                                                 20                     \n",
      "FP001-RP004-EvaGreen                                                  20                     \n",
      "FP002-RP004-EvaGreen                                                  20                     \n",
      "FP004-FP005-Probe                                                     20                     \n",
      "RP008x-FP005-Probe                                                    20                     \n",
      "FP005-FP001-EvaGreen                                                  20                     \n",
      "RP002x-FP004-EvaGreen                                                 20                     \n",
      "RP008x-FP001-EvaGreen                                                 20                     \n",
      "FP001-RP001x-Probe                                                    20                     \n",
      "\n",
      "                      0_point_start_learning_many_many_FP004-RP004x-Probe_FP002-RP002x-Probe  \\\n",
      "FP001-RP001x-EvaGreen                                                 20                       \n",
      "FP002-RP002x-EvaGreen                                                 20                       \n",
      "FP005-FP001-Probe                                                     20                       \n",
      "RP001x-FP002-Probe                                                    20                       \n",
      "RP002x-FP005-Probe                                                    20                       \n",
      "FP005-FP004-EvaGreen                                                  20                       \n",
      "FP004-RP004-Probe                                                     20                       \n",
      "RP002x-FP002-EvaGreen                                                 20                       \n",
      "FP001-RP004-EvaGreen                                                  20                       \n",
      "FP002-RP004-EvaGreen                                                  20                       \n",
      "FP004-FP005-Probe                                                     20                       \n",
      "RP008x-FP005-Probe                                                    20                       \n",
      "FP005-FP001-EvaGreen                                                  20                       \n",
      "RP002x-FP004-EvaGreen                                                 20                       \n",
      "RP008x-FP001-EvaGreen                                                 20                       \n",
      "FP001-RP001x-Probe                                                    20                       \n",
      "\n",
      "                      0_point_start_learning_many_many_FP004-RP004-EvaGreen_FP004-RP004x-EvaGreen  \\\n",
      "FP001-RP001x-EvaGreen                                                 20                            \n",
      "FP002-RP002x-EvaGreen                                                 20                            \n",
      "FP005-FP001-Probe                                                     20                            \n",
      "RP001x-FP002-Probe                                                    20                            \n",
      "RP002x-FP005-Probe                                                    20                            \n",
      "FP005-FP004-EvaGreen                                                  20                            \n",
      "FP004-RP004-Probe                                                     20                            \n",
      "RP002x-FP002-EvaGreen                                                 20                            \n",
      "FP001-RP004-EvaGreen                                                  20                            \n",
      "FP002-RP004-EvaGreen                                                  20                            \n",
      "FP004-FP005-Probe                                                     20                            \n",
      "RP008x-FP005-Probe                                                    20                            \n",
      "FP005-FP001-EvaGreen                                                  20                            \n",
      "RP002x-FP004-EvaGreen                                                 20                            \n",
      "RP008x-FP001-EvaGreen                                                 20                            \n",
      "FP001-RP001x-Probe                                                    20                            \n",
      "\n",
      "                      centre_learning_many_many_FP004-RP004-EvaGreen_FP002-RP002x-Probe  \\\n",
      "FP001-RP001x-EvaGreen                                                 20                  \n",
      "FP002-RP002x-EvaGreen                                                 20                  \n",
      "FP005-FP001-Probe                                                     20                  \n",
      "RP001x-FP002-Probe                                                    20                  \n",
      "RP002x-FP005-Probe                                                    20                  \n",
      "FP005-FP004-EvaGreen                                                  20                  \n",
      "FP004-RP004-Probe                                                     20                  \n",
      "RP002x-FP002-EvaGreen                                                 20                  \n",
      "FP001-RP004-EvaGreen                                                  20                  \n",
      "FP002-RP004-EvaGreen                                                  20                  \n",
      "FP004-FP005-Probe                                                     20                  \n",
      "RP008x-FP005-Probe                                                    20                  \n",
      "FP005-FP001-EvaGreen                                                  20                  \n",
      "RP002x-FP004-EvaGreen                                                 20                  \n",
      "RP008x-FP001-EvaGreen                                                 20                  \n",
      "FP001-RP001x-Probe                                                    20                  \n",
      "\n",
      "                      0_point_start_learning_many_many_FP004-RP004-EvaGreen_FP002-RP002x-Probe  \n",
      "FP001-RP001x-EvaGreen                                                 20                        \n",
      "FP002-RP002x-EvaGreen                                                 20                        \n",
      "FP005-FP001-Probe                                                     20                        \n",
      "RP001x-FP002-Probe                                                    20                        \n",
      "RP002x-FP005-Probe                                                    20                        \n",
      "FP005-FP004-EvaGreen                                                  20                        \n",
      "FP004-RP004-Probe                                                     20                        \n",
      "RP002x-FP002-EvaGreen                                                 20                        \n",
      "FP001-RP004-EvaGreen                                                  20                        \n",
      "FP002-RP004-EvaGreen                                                  20                        \n",
      "FP004-FP005-Probe                                                     20                        \n",
      "RP008x-FP005-Probe                                                    20                        \n",
      "FP005-FP001-EvaGreen                                                  20                        \n",
      "RP002x-FP004-EvaGreen                                                 20                        \n",
      "RP008x-FP001-EvaGreen                                                 20                        \n",
      "FP001-RP001x-Probe                                                    20                        \n"
     ]
    }
   ],
   "source": [
    "seeds_df = pd.DataFrame(columns=list(res_dfs.keys()),\n",
    "                        index=res_dfs[f'centre_learning_many_many_FP004-RP004x-Probe_FP002-RP002x-Probe']['PrimerPairReporter'].unique())\n",
    "\n",
    "for key, df in res_dfs.items():\n",
    "\n",
    "    for ppr in df['PrimerPairReporter'].unique():\n",
    "        df_ = df[df['PrimerPairReporter'] == ppr]\n",
    "        # counts = df_.value_counts('seed').to_frame()\n",
    "        seeds_df[key][ppr] = len(df_['seed'].unique())\n",
    "\n",
    "print(seeds_df)"
   ]
  },
  {
   "cell_type": "markdown",
   "metadata": {
    "collapsed": false
   },
   "source": [
    "If necessary, see which seeds are missing data:"
   ]
  },
  {
   "cell_type": "code",
   "execution_count": 30,
   "metadata": {
    "collapsed": false,
    "pycharm": {
     "name": "#%%\n"
    }
   },
   "outputs": [
    {
     "name": "stdout",
     "output_type": "stream",
     "text": [
      "centre_learning_many_many_FP004-RP004x-Probe_FP002-RP002x-Probe\n",
      "seed                   1   2   3   4   5   6   7   8   9   10  11  12  13  14  15  16  17  18  19  20\n",
      "FP001-RP001x-EvaGreen  24  24  24  24  24  24  24  24  24  24  24  24  24  24  24  24  24  24  24  24\n",
      "FP002-RP002x-EvaGreen  15  15  15  15  15  15  15  15  15  15  15  15  15  15  15  15  15  15  15  15\n",
      "FP005-FP001-Probe       8   8   8   8   8   8   8   8   8   8   8   8   8   8   8   8   8   8   8   8\n",
      "RP001x-FP002-Probe     19  19  19  19  19  19  19  19  19  19  19  19  19  19  19  19  19  19  19  19\n",
      "RP002x-FP005-Probe      8   8   8   8   8   8   8   8   8   8   8   8   8   8   8   8   8   8   8   8\n",
      "FP005-FP004-EvaGreen    8   8   8   8   8   8   8   8   8   8   8   8   8   8   8   8   8   8   8   8\n",
      "FP004-RP004-Probe      31  31  31  31  30  31  31  31  31  31  30  29  31  31  31  31  30  30  31  31\n",
      "RP002x-FP002-EvaGreen   2   2   2   2   2   2   2   2   2   2   2   2   2   2   2   2   2   2   2   2\n",
      "FP001-RP004-EvaGreen    7   7   7   7   7   7   7   7   7   7   7   7   7   7   7   7   7   7   7   7\n",
      "FP002-RP004-EvaGreen    3   3   3   3   3   3   3   3   3   3   3   3   3   3   3   3   3   3   3   3\n",
      "FP004-FP005-Probe       8   8   8   8   8   8   8   8   8   8   8   8   8   8   8   8   8   8   8   8\n",
      "RP008x-FP005-Probe      8   8   8   8   8   8   8   8   8   8   8   8   8   8   8   8   8   8   8   8\n",
      "FP005-FP001-EvaGreen   14  14  14  14  14  14  14  14  14  14  14  14  14  14  14  14  14  14  14  14\n",
      "RP002x-FP004-EvaGreen   6   6   6   6   6   6   6   6   6   6   6   6   6   6   6   6   6   6   6   6\n",
      "RP008x-FP001-EvaGreen   8   8   8   8   8   8   8   8   8   8   8   8   8   8   8   8   8   8   8   8\n",
      "FP001-RP001x-Probe     20  20  20  20  20  20  20  20  20  20  20  20  20  20  20  20  20  20  20  20\n",
      "centre_learning_many_many_FP004-RP004-EvaGreen_FP004-RP004x-EvaGreen\n",
      "seed                   1   2   3   4   5   6   7   8   9   10  11  12  13  14  15  16  17  18  19  20\n",
      "FP001-RP001x-EvaGreen  24  24  24  24  24  24  24  24  24  24  24  24  24  24  24  24  24  24  24  24\n",
      "FP002-RP002x-EvaGreen  15  15  15  15  15  15  15  15  15  15  15  15  15  15  15  15  15  15  15  15\n",
      "FP005-FP001-Probe       8   8   8   8   8   8   8   8   8   8   8   8   8   8   8   8   8   8   8   8\n",
      "RP001x-FP002-Probe     19  19  19  19  19  19  19  19  19  19  19  19  19  19  19  19  19  19  19  19\n",
      "RP002x-FP005-Probe      8   8   8   8   8   8   8   8   8   8   8   8   8   8   8   8   8   8   8   8\n",
      "FP005-FP004-EvaGreen    8   8   8   8   8   8   8   8   8   8   8   8   8   8   8   8   8   8   8   8\n",
      "FP004-RP004-Probe      31  26  31  27  29  30  31  27  31  29  27  29  31  29  31  28  28  26  31  30\n",
      "RP002x-FP002-EvaGreen   2   2   2   2   2   2   2   2   2   2   2   2   2   2   2   2   2   2   2   2\n",
      "FP001-RP004-EvaGreen    7   7   7   7   7   7   7   7   7   7   7   7   7   7   7   7   7   7   7   7\n",
      "FP002-RP004-EvaGreen    3   3   3   3   3   3   3   3   3   3   3   3   3   3   3   3   3   3   3   3\n",
      "FP004-FP005-Probe       8   8   8   8   8   8   8   8   8   8   8   8   8   8   8   8   8   8   8   8\n",
      "RP008x-FP005-Probe      8   8   8   8   8   8   8   8   8   8   8   8   8   8   8   8   8   8   8   8\n",
      "FP005-FP001-EvaGreen   14  14  14  14  14  14  14  14  14  14  14  14  14  14  14  14  14  14  14  14\n",
      "RP002x-FP004-EvaGreen   6   6   6   6   6   6   6   6   6   6   6   6   6   6   6   6   6   6   6   6\n",
      "RP008x-FP001-EvaGreen   8   8   8   8   8   8   8   8   8   8   8   8   8   8   8   8   8   8   8   8\n",
      "FP001-RP001x-Probe     20  20  20  20  20  20  20  20  20  20  20  20  20  20  20  20  20  20  20  20\n",
      "0_point_start_learning_many_many_FP004-RP004x-Probe_FP002-RP002x-Probe\n",
      "seed                   1   2   3   4   5   6   7   8   9   10  11  12  13  14  15  16  17  18  19  20\n",
      "FP001-RP001x-EvaGreen  24  24  24  24  24  24  24  24  24  24  24  24  24  24  24  24  24  24  24  24\n",
      "FP002-RP002x-EvaGreen  15  15  15  15  15  15  15  15  15  15  15  15  15  15  15  15  15  15  15  15\n",
      "FP005-FP001-Probe       8   8   8   8   8   8   8   8   8   8   8   8   8   8   8   8   8   8   8   8\n",
      "RP001x-FP002-Probe     19  19  19  19  19  19  19  19  19  19  19  19  19  19  19  19  19  19  19  19\n",
      "RP002x-FP005-Probe      8   8   8   8   8   8   8   8   8   8   8   8   8   8   8   8   8   8   8   8\n",
      "FP005-FP004-EvaGreen    8   8   8   8   8   8   8   8   8   8   8   8   8   8   8   8   8   8   8   8\n",
      "FP004-RP004-Probe      30  30  30  30  30  30  30  30  30  30  30  30  30  30  30  30  30  30  30  30\n",
      "RP002x-FP002-EvaGreen   2   2   2   2   2   2   2   2   2   2   2   2   2   2   2   2   2   2   2   2\n",
      "FP001-RP004-EvaGreen    7   7   7   7   7   7   7   7   7   7   7   7   7   7   7   7   7   7   7   7\n",
      "FP002-RP004-EvaGreen    3   3   3   3   3   3   3   3   3   3   3   3   3   3   3   3   3   3   3   3\n",
      "FP004-FP005-Probe       8   8   8   8   8   8   8   8   8   8   8   8   8   8   8   8   8   8   8   8\n",
      "RP008x-FP005-Probe      8   8   8   8   8   8   8   8   8   8   8   8   8   8   8   8   8   8   8   8\n",
      "FP005-FP001-EvaGreen   14  14  14  14  14  14  14  14  14  14  14  14  14  14  14  14  14  14  14  14\n",
      "RP002x-FP004-EvaGreen   6   6   6   6   6   6   6   6   6   6   6   6   6   6   6   6   6   6   6   6\n",
      "RP008x-FP001-EvaGreen   8   8   8   8   8   8   8   8   8   8   8   8   8   8   8   8   8   8   8   8\n",
      "FP001-RP001x-Probe     20  20  20  20  20  20  20  20  20  20  20  20  20  20  20  20  20  20  20  20\n",
      "0_point_start_learning_many_many_FP004-RP004-EvaGreen_FP004-RP004x-EvaGreen\n",
      "seed                   1   2   3   4   5   6   7   8   9   10  11  12  13  14  15  16  17  18  19  20\n",
      "FP001-RP001x-EvaGreen  24  24  24  24  24  24  24  24  24  24  24  24  24  24  24  24  24  24  24  24\n",
      "FP002-RP002x-EvaGreen  15  15  15  15  15  15  15  15  15  15  15  15  15  15  15  15  15  15  15  15\n",
      "FP005-FP001-Probe       8   8   8   8   8   8   8   8   8   8   8   8   8   8   8   8   8   8   8   8\n",
      "RP001x-FP002-Probe     19  19  19  19  19  19  19  19  19  19  19  19  19  19  19  19  19  19  19  19\n",
      "RP002x-FP005-Probe      8   8   8   8   8   8   8   8   8   8   8   8   8   8   8   8   8   8   8   8\n",
      "FP005-FP004-EvaGreen    8   8   8   8   8   8   8   8   8   8   8   8   8   8   8   8   8   8   8   8\n",
      "FP004-RP004-Probe      30  30  30  30  30  30  30  30  30  30  30  30  30  30  30  30  30  30  30  30\n",
      "RP002x-FP002-EvaGreen   2   2   2   2   2   2   2   2   2   2   2   2   2   2   2   2   2   2   2   2\n",
      "FP001-RP004-EvaGreen    7   7   7   7   7   7   7   7   7   7   7   7   7   7   7   7   7   7   7   7\n",
      "FP002-RP004-EvaGreen    3   3   3   3   3   3   3   3   3   3   3   3   3   3   3   3   3   3   3   3\n",
      "FP004-FP005-Probe       8   8   8   8   8   8   8   8   8   8   8   8   8   8   8   8   8   8   8   8\n",
      "RP008x-FP005-Probe      8   8   8   8   8   8   8   8   8   8   8   8   8   8   8   8   8   8   8   8\n",
      "FP005-FP001-EvaGreen   14  14  14  14  14  14  14  14  14  14  14  14  14  14  14  14  14  14  14  14\n",
      "RP002x-FP004-EvaGreen   6   6   6   6   6   6   6   6   6   6   6   6   6   6   6   6   6   6   6   6\n",
      "RP008x-FP001-EvaGreen   8   8   8   8   8   8   8   8   8   8   8   8   8   8   8   8   8   8   8   8\n",
      "FP001-RP001x-Probe     20  20  20  20  20  20  20  20  20  20  20  20  20  20  20  20  20  20  20  20\n",
      "centre_learning_many_many_FP004-RP004-EvaGreen_FP002-RP002x-Probe\n",
      "seed                   1   2   3   4   5   6   7   8   9   10  11  12  13  14  15  16  17  18  19  20\n",
      "FP001-RP001x-EvaGreen  21  21  21  21  21  21  21  21  21  21  21  21  21  21  21  21  21  21  21  21\n",
      "FP002-RP002x-EvaGreen  15  15  15  15  15  15  15  15  15  15  15  15  15  15  15  15  15  15  15  15\n",
      "FP005-FP001-Probe       8   8   8   8   8   8   8   8   8   8   8   8   8   8   8   8   8   8   8   8\n",
      "RP001x-FP002-Probe     19  19  19  19  19  19  19  19  19  19  19  19  19  19  19  19  19  19  19  19\n",
      "RP002x-FP005-Probe      8   8   8   8   8   8   8   8   8   8   8   8   8   8   8   8   8   8   8   8\n",
      "FP005-FP004-EvaGreen    8   8   8   8   8   8   8   8   8   8   8   8   8   8   8   8   8   8   8   8\n",
      "FP004-RP004-Probe      21  21  21  21  21  21  21  21  21  21  21  21  21  21  21  21  21  21  21  21\n",
      "RP002x-FP002-EvaGreen   2   2   2   2   2   2   2   2   2   2   2   2   2   2   2   2   2   2   2   2\n",
      "FP001-RP004-EvaGreen    7   7   7   7   7   7   7   7   7   7   7   7   7   7   7   7   7   7   7   7\n",
      "FP002-RP004-EvaGreen    3   3   3   3   3   3   3   3   3   3   3   3   3   3   3   3   3   3   3   3\n",
      "FP004-FP005-Probe       8   8   8   8   8   8   8   8   8   8   8   8   8   8   8   8   8   8   8   8\n",
      "RP008x-FP005-Probe      8   8   8   8   8   8   8   8   8   8   8   8   8   8   8   8   8   8   8   8\n",
      "FP005-FP001-EvaGreen   14  14  14  14  14  14  14  14  14  14  14  14  14  14  14  14  14  14  14  14\n",
      "RP002x-FP004-EvaGreen   6   6   6   6   6   6   6   6   6   6   6   6   6   6   6   6   6   6   6   6\n",
      "RP008x-FP001-EvaGreen   8   8   8   8   8   8   8   8   8   8   8   8   8   8   8   8   8   8   8   8\n",
      "FP001-RP001x-Probe     20  20  20  20  20  20  20  20  20  20  20  20  20  20  20  20  20  20  20  20\n",
      "0_point_start_learning_many_many_FP004-RP004-EvaGreen_FP002-RP002x-Probe\n",
      "seed                   1   2   3   4   5   6   7   8   9   10  11  12  13  14  15  16  17  18  19  20\n",
      "FP001-RP001x-EvaGreen  20  20  20  20  20  20  20  20  20  20  20  20  20  20  20  20  20  20  20  20\n",
      "FP002-RP002x-EvaGreen  15  15  15  15  15  15  15  15  15  15  15  15  15  15  15  15  15  15  15  15\n",
      "FP005-FP001-Probe       8   8   8   8   8   8   8   8   8   8   8   8   8   8   8   8   8   8   8   8\n",
      "RP001x-FP002-Probe     19  19  19  19  19  19  19  19  19  19  19  19  19  19  19  19  19  19  19  19\n",
      "RP002x-FP005-Probe      8   8   8   8   8   8   8   8   8   8   8   8   8   8   8   8   8   8   8   8\n",
      "FP005-FP004-EvaGreen    8   8   8   8   8   8   8   8   8   8   8   8   8   8   8   8   8   8   8   8\n",
      "FP004-RP004-Probe      20  20  20  20  20  20  20  20  20  20  20  20  20  20  20  20  20  20  20  20\n",
      "RP002x-FP002-EvaGreen   2   2   2   2   2   2   2   2   2   2   2   2   2   2   2   2   2   2   2   2\n",
      "FP001-RP004-EvaGreen    7   7   7   7   7   7   7   7   7   7   7   7   7   7   7   7   7   7   7   7\n",
      "FP002-RP004-EvaGreen    3   3   3   3   3   3   3   3   3   3   3   3   3   3   3   3   3   3   3   3\n",
      "FP004-FP005-Probe       8   8   8   8   8   8   8   8   8   8   8   8   8   8   8   8   8   8   8   8\n",
      "RP008x-FP005-Probe      8   8   8   8   8   8   8   8   8   8   8   8   8   8   8   8   8   8   8   8\n",
      "FP005-FP001-EvaGreen   14  14  14  14  14  14  14  14  14  14  14  14  14  14  14  14  14  14  14  14\n",
      "RP002x-FP004-EvaGreen   6   6   6   6   6   6   6   6   6   6   6   6   6   6   6   6   6   6   6   6\n",
      "RP008x-FP001-EvaGreen   8   8   8   8   8   8   8   8   8   8   8   8   8   8   8   8   8   8   8   8\n",
      "FP001-RP001x-Probe     20  20  20  20  20  20  20  20  20  20  20  20  20  20  20  20  20  20  20  20\n"
     ]
    }
   ],
   "source": [
    "for key, df in res_dfs.items():\n",
    "    print(key)\n",
    "    counts_df = pd.DataFrame(columns=res_dfs[f'centre_learning_many_many_FP004-RP004x-Probe_FP002-RP002x-Probe']['PrimerPairReporter'].unique())\n",
    "    for ppr in df['PrimerPairReporter'].unique():\n",
    "        df_ = df[(df['PrimerPairReporter'] == ppr)  & (df['model'] == 'mo_indi')][['BP', 'GC', 'seed']].drop_duplicates()\n",
    "        counts = df_.value_counts('seed').to_frame().sort_values(by='seed')\n",
    "        counts_df[ppr] = df_.value_counts('seed').to_frame().sort_values(by='seed')\n",
    "        # seeds_df[key][ppr] = len(df_['seed'].unique())\n",
    "    print(counts_df.T.to_string())"
   ]
  },
  {
   "cell_type": "code",
   "execution_count": 31,
   "metadata": {
    "collapsed": false,
    "pycharm": {
     "name": "#%%\n"
    }
   },
   "outputs": [],
   "source": [
    "\n",
    "for name, df in res_dfs.items():\n",
    "    if 'init_surfaces' not in df.columns:\n",
    "        df['init_surfaces'] = 'FP004-RP004-EvaGreen_FP002-RP002x-Probe'\n",
    "    # print(df.head().to_string())\n",
    "    res_dfs[name] = df  "
   ]
  },
  {
   "cell_type": "markdown",
   "metadata": {
    "collapsed": false
   },
   "source": [
    "Calculate the regret"
   ]
  },
  {
   "cell_type": "code",
   "execution_count": 32,
   "metadata": {},
   "outputs": [
    {
     "name": "stdout",
     "output_type": "stream",
     "text": [
      "['r', 'm']\n"
     ]
    }
   ],
   "source": [
    "print(params)"
   ]
  },
  {
   "cell_type": "code",
   "execution_count": 33,
   "metadata": {},
   "outputs": [
    {
     "data": {
      "text/plain": [
       "Index(['BP', 'GC', 'PrimerPairReporter', 'r', 'stzd r', 'r_mu', 'r_sig2',\n",
       "       'r_mu_z', 'r_sig2_z', 'm', 'stzd m', 'm_mu', 'm_sig2', 'm_mu_z',\n",
       "       'm_sig2_z', 'EI_z', 'Sequence Name', 'target r', 'target r z',\n",
       "       'target m', 'target m z', 'model', 'iteration', 'error r',\n",
       "       'error from target r z', 'error from target r', 'error r z', 'error m',\n",
       "       'error from target m z', 'error from target m', 'error m z',\n",
       "       'initial_surface', 'seed', 'init_surfaces'],\n",
       "      dtype='object')"
      ]
     },
     "execution_count": 33,
     "metadata": {},
     "output_type": "execute_result"
    }
   ],
   "source": [
    "df.columns"
   ]
  },
  {
   "cell_type": "code",
   "execution_count": 34,
   "metadata": {
    "collapsed": false,
    "pycharm": {
     "name": "#%%\n"
    }
   },
   "outputs": [],
   "source": [
    "stzd = True\n",
    "max_iter = 20\n",
    "\n",
    "if len(params) > 1:\n",
    "    regret_metric = 'combined regret'\n",
    "else:\n",
    "    regret_metric = 'regret r'\n",
    "# starting_point_names = {'centre':'Centre', '0_point_start':'Model\\'s Choice'}\n",
    "# learning_type_names = {'learning_many':'Learning Many', 'learning_1':'Learning One\\nat a Time'}\n",
    "plot_minmax = True\n",
    "regrets_all = {}\n",
    "regret_names = []\n",
    "for name, df in res_dfs.items():\n",
    "    best_points = fns.get_best_points_penalized(params, df, stzd=stzd, log_t=False)\n",
    "    df = df.drop(columns=['Sequence Name', 'init_surfaces'])\n",
    "    regret_df_all = fns.calculate_regret(df, params, best_points, stzd=stzd, penalized=True,\n",
    "                                         diff_from_target_only=False)\n",
    "    regret_df_all = regret_df_all[regret_df_all['iteration'] <=max_iter]\n",
    "    regret_df_all.loc[regret_df_all['combined regret'] <1e-2,  'combined regret'] = 1e-2\n",
    "    regrets_all[name] = regret_df_all"
   ]
  },
  {
   "cell_type": "code",
   "execution_count": 35,
   "metadata": {
    "collapsed": false,
    "pycharm": {
     "name": "#%%\n"
    }
   },
   "outputs": [],
   "source": [
    "\n",
    "cumulative_regrets = {}\n",
    "for name, regret_df in regrets_all.items():\n",
    "\n",
    "    if 'r' in params and 'm' in params:\n",
    "        regret_names = ['combined regret']\n",
    "    else:\n",
    "        regret_names = [f'regret {param}' for param in params]\n",
    "\n",
    "    # if learning_type == 'learning many':\n",
    "    #     for seed in regret_df['seed'].unique():\n",
    "    #         temp_df = regret_df[regret_df['seed'] == seed]\n",
    "    #         if temp_df['iteration'].max() != max_iter:\n",
    "    #             regret_df= regret_df[regret_df['seed'] != seed]\n",
    "\n",
    "    regret_df = regret_df.sort_values('iteration')\n",
    "\n",
    "    # calculate the cumulative minimum regret and cumulative sum of regret\n",
    "\n",
    "    for model in regret_df['model'].unique():\n",
    "        for seed in regret_df['seed'].unique():\n",
    "            for ppr in regret_df['PrimerPairReporter'].unique():\n",
    "                for regret_name in regret_names:\n",
    "                    regret_df.loc[\n",
    "                        (regret_df['model'] == model) & (regret_df['seed'] == seed) & (\n",
    "                                    regret_df['PrimerPairReporter'] == ppr), f'{regret_name} cummin'] = \\\n",
    "                        regret_df.loc[(regret_df['model'] == model) & (regret_df['seed'] == seed) & (\n",
    "                                regret_df['PrimerPairReporter'] == ppr), regret_name].cummin()\n",
    "                    regret_df.loc[\n",
    "                        (regret_df['model'] == model) & (regret_df['seed'] == seed) & (\n",
    "                                    regret_df['PrimerPairReporter'] == ppr), f'{regret_name} cumsum'] = \\\n",
    "                        regret_df.loc[(regret_df['model'] == model) & (regret_df['seed'] == seed) & (\n",
    "                                regret_df['PrimerPairReporter'] == ppr), f'{regret_name} cummin'].cumsum()\n",
    "    cumulative_regrets[name] = regret_df\n"
   ]
  },
  {
   "cell_type": "code",
   "execution_count": 36,
   "metadata": {
    "collapsed": false,
    "pycharm": {
     "name": "#%%\n"
    }
   },
   "outputs": [],
   "source": [
    "regret_metrics = {}\n",
    "for name, regret_df in cumulative_regrets.items():\n",
    "    # regret_df = regret_df[regret_df['PrimerPairReporter'].str.contains('EvaGreen')]\n",
    "\n",
    "    i_max = regret_df['iteration'].max() #.loc[regret_df['model'] =='avg',\n",
    "\n",
    "    for ppr in regret_df['PrimerPairReporter'].unique():\n",
    "\n",
    "        ppr_imax = regret_df.loc[regret_df['PrimerPairReporter'] == ppr, 'iteration'].to_numpy().max()\n",
    "        if ppr_imax == i_max:\n",
    "            pass\n",
    "        else:\n",
    "            extra_rows = pd.concat([regret_df.loc[(regret_df['PrimerPairReporter'] == ppr)\n",
    "                                            & (regret_df['iteration'] == ppr_imax)]] * int((i_max - ppr_imax)))\n",
    "            extra_rows = extra_rows.sort_values(['model', 'seed'])\n",
    "            if ppr_imax < (i_max - 1):\n",
    "                test = np.arange(ppr_imax + 1, i_max + 1).tolist() * int(len(extra_rows)/(i_max-ppr_imax))\n",
    "                extra_rows['iteration'] = np.arange(ppr_imax + 1, i_max + 1).tolist() \\\n",
    "                                          * int(len(extra_rows)/(i_max-ppr_imax))\n",
    "                regret_df = regret_df.append(extra_rows)\n",
    "            elif ppr_imax == (i_max - 1):\n",
    "                extra_rows['iteration'] = i_max\n",
    "                regret_df = regret_df.append(extra_rows)\n",
    "            else:\n",
    "                pass\n",
    "    # if 'learning many' in name:\n",
    "    df = regret_df.groupby(['model', 'iteration', 'seed']).mean().reset_index()\n",
    "\n",
    "    df2 = df.groupby(['model', 'iteration']).mean().reset_index()\n",
    "    df3 = df.groupby(['model', 'iteration']).median().reset_index()\n",
    "    df4 = df.groupby(['model', 'iteration']).quantile(0.05).reset_index()\n",
    "    df5 = df.groupby(['model', 'iteration']).quantile(0.95).reset_index()\n",
    "    metrics = ['mean', 'median', 'min', 'max']\n",
    "\n",
    "    dfs = [df2, df3, df4, df5]\n",
    "    for i in range(len(dfs)):\n",
    "        for col in [f'{regret_name} {met}' for regret_name in regret_names for met in ['cummin', 'cumsum']]:\n",
    "            dfs[i][f'{metrics[i]} {col}'] = dfs[i][col]\n",
    "        dfs[i] = dfs[i].drop(\n",
    "            columns=[f'{regret_name} {met}' for regret_name in regret_names for met in ['cummin', 'cumsum']]\n",
    "                    + ['seed', 'index'] + regret_names)\n",
    "    regret_df = dfs[0].merge(dfs[1], on=['model', 'iteration'])\n",
    "    regret_df = regret_df.merge(dfs[2], on=['model', 'iteration'])\n",
    "    regret_df = regret_df.merge(dfs[3], on=['model', 'iteration'])\n",
    "\n",
    "    # else:\n",
    "    #\n",
    "    #     # calculate the mean, min, and max of the cumulative minimum regret and cumulative sum of\n",
    "    #     # regret across all seeds for each primer pair reporter\n",
    "    #\n",
    "    #     df4 = regret_df.groupby(['model', 'iteration', 'PrimerPairReporter']).mean().reset_index()\n",
    "    #     df7 = regret_df.groupby(['model', 'iteration', 'PrimerPairReporter']).median().reset_index()\n",
    "    #     df5 = regret_df.groupby(['model', 'iteration', 'PrimerPairReporter']).quantile(0.05).reset_index()\n",
    "    #     df6 = regret_df.groupby(['model', 'iteration', 'PrimerPairReporter']).quantile(0.95).reset_index()\n",
    "    #\n",
    "    #     # create new dataframe which combines these metrics\n",
    "    #\n",
    "    #     metrics = ['mean', 'min', 'max', 'median']\n",
    "    #     dfs = [df4, df5, df6, df7]\n",
    "    #     for i in range(len(dfs)):\n",
    "    #         for col in [f'{regret_name} {met}' for regret_name in regret_names for met in ['cummin', 'cumsum']]:\n",
    "    #             dfs[i][f'{metrics[i]} {col}'] = dfs[i][col]\n",
    "    #         dfs[i] = dfs[i].drop(\n",
    "    #             columns=[f'{regret_name} {met}' for regret_name in regret_names for met in ['cummin', 'cumsum']]\n",
    "    #                     + ['seed', 'index'] + regret_names)\n",
    "    #\n",
    "    #     regret_df = dfs[0].merge(dfs[1], on=['model', 'iteration', 'PrimerPairReporter'])\n",
    "    #     regret_df = regret_df.merge(dfs[2], on=['model', 'iteration', 'PrimerPairReporter'])\n",
    "    #     regret_df = regret_df.merge(dfs[3], on=['model', 'iteration', 'PrimerPairReporter'])\n",
    "\n",
    "\n",
    "    regret_df = regret_df.groupby(['model', 'iteration']).mean().reset_index()\n",
    "    regret_metrics[name] = regret_df"
   ]
  },
  {
   "cell_type": "code",
   "execution_count": 41,
   "metadata": {
    "collapsed": false,
    "pycharm": {
     "name": "#%%\n"
    }
   },
   "outputs": [
    {
     "data": {
      "image/png": "[encoded data removed]",
      "text/plain": [
       "<Figure size 560.63x336.378 with 6 Axes>"
      ]
     },
     "metadata": {},
     "output_type": "display_data"
    }
   ],
   "source": [
    "linestyles = {'lmc':'dashdot', 'mo_indi': 'dotted', 'lvm':  'solid' , 'avg': 'dashed' }\n",
    "def get_colors():\n",
    "    cols = plt.rcParams['axes.prop_cycle'].by_key()['color']\n",
    "    cols = ['#253494', '#2c7fb8','#41b6c4',  '#a1dab4']\n",
    "    colors = {'lmc': cols[0], 'mo_indi': cols[3], 'lvm': cols[1], 'avg': cols[2]}\n",
    "    return colors\n",
    "\n",
    "starting_point_names = {'centre':'Centre', '0_point_start':'Model\\'s Choice'}\n",
    "learning_type_names = {'learning many':'Many Surfaces', 'learning 1':'One at a Time'}\n",
    "labels = {'mo_indi':'MOGP', 'avg':'AvgGP', 'lmc': 'LMC', 'lvm':'LVMOGP'}\n",
    "\n",
    "fig, axs = plt.subplots(nrows=2, ncols=3, figsize=[page_width, page_width*0.6])\n",
    "colors = fns.get_colors()\n",
    "plot_minmax=True\n",
    "starting_point_names = {'centre':'Centre', '0_point_start':'Model\\'s Choice'}\n",
    "learning_type_names = {'learning_many':'Many Surfaces', 'learning_1':'One at a Time'}\n",
    "initial_surfaces = ['FP004-RP004-EvaGreen_FP002-RP002x-Probe', 'FP004-RP004x-Probe_FP002-RP002x-Probe', 'FP004-RP004-EvaGreen_FP004-RP004x-EvaGreen']\n",
    "titles = {'FP004-RP004-EvaGreen_FP002-RP002x-Probe':'FP004-RP004-EvaGreen\\nFP002-RP002x-Probe', \n",
    "          'FP004-RP004x-Probe_FP002-RP002x-Probe':'FP004-RP004x-Probe\\nFP002-RP002x-Probe',\n",
    "            'FP004-RP004-EvaGreen_FP004-RP004x-EvaGreen':'FP004-RP004-EvaGreen\\nFP004-RP004x-EvaGreen'}\n",
    "labels = {'mo_indi':'MOGP', 'avg':'AvgGP', 'lmc': 'LMC', 'lvm':'LVMOGP'}\n",
    "\n",
    "for i, init_surface in enumerate(initial_surfaces): #, 'learning 1'\n",
    "    for j, starting_point in enumerate(starting_points):\n",
    "        name = f'{starting_point}_learning_many_many_{init_surface}'\n",
    "        regret_df = regret_metrics[name]\n",
    "        if (starting_point =='0_point_start') & (init_surface in ['FP004-RP004x-Probe_FP002-RP002x-Probe', 'FP004-RP004-EvaGreen_FP004-RP004x-EvaGreen']):\n",
    "            regret_df['iteration'] = regret_df['iteration'] - 1\n",
    "\n",
    "        for model in ['mo_indi', 'avg', 'lmc', 'lvm']:\n",
    "            df = regret_df[(regret_df['model'] == model) ].sort_values('iteration')\n",
    "            if (i==0) & (j==0):\n",
    "                label = labels[model]\n",
    "            else:\n",
    "                label = None\n",
    "            axs[j, i].plot(df['iteration'], df[f'median {regret_metric} cumsum'], label=label,\n",
    "                        color=colors[model], linestyle=linestyles[model])\n",
    "            if plot_minmax:\n",
    "                \n",
    "                axs[j, i].fill_between(df['iteration'], df[f'min {regret_metric} cumsum'],\n",
    "                                    df[f'max {regret_metric} cumsum'],\n",
    "                                    alpha=0.2, color=colors[model])\n",
    "        axs[0, i].set_title(f'{titles[init_surface]}', fontsize=10)\n",
    "        axs[j,0].set_ylabel(starting_point_names[starting_point])\n",
    "        axs[1,i].set_xlabel('no. iterations')\n",
    "\n",
    "\n",
    "rows = [f'{row}' for row in starting_point_names.values()]\n",
    "# for ax, row in zip(axs[:,0], rows):\n",
    "#     ax.annotate(row, xy=(0, 0.5), xytext=(-ax.yaxis.labelpad - 5, 0),\n",
    "#                 xycoords=ax.yaxis.label, textcoords='offset points',\n",
    "#                 fontsize=10, ha='right', va='center', rotation=90)\n",
    "for ax in axs.flatten():\n",
    "    ax.set_xlim(0, 20)\n",
    "    ax.grid()\n",
    "\n",
    "        # plt.suptitle('Cumulative Regret')\n",
    "        # axs[j, i].legend()\n",
    "\n",
    "fig.legend(loc=\"lower center\", ncols=4,\n",
    "               bbox_to_anchor=(0.53, -0.08))\n",
    "\n",
    "plt.tight_layout()\n",
    "plt.savefig(pl.Path(os.getcwd()) / f'analysis/plots/retroBO_cumulative_regret_all_diff_inits_{param_name}.pdf', bbox_inches='tight')\n",
    "# plt.savefig(f'plots/retroBO_cumulative_regret_all_{param_name}.pdf', bbox_inches='tight')\n",
    "# plt.savefig(f'plots/retroBO_cumulative_regret_all_{param_name}.svg', bbox_inches='tight')\n"
   ]
  }
 ],
 "metadata": {
  "kernelspec": {
   "display_name": "Python 3 (ipykernel)",
   "language": "python",
   "name": "python3"
  },
  "language_info": {
   "codemirror_mode": {
    "name": "ipython",
    "version": 3
   },
   "file_extension": ".py",
   "mimetype": "text/x-python",
   "name": "python",
   "nbconvert_exporter": "python",
   "pygments_lexer": "ipython3",
   "version": "3.9.7"
  }
 },
 "nbformat": 4,
 "nbformat_minor": 1
}

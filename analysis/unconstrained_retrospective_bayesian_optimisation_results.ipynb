{
 "cells": [
  {
   "cell_type": "code",
   "execution_count": 41,
   "outputs": [],
   "source": [
    "import numpy as np\n",
    "import pathlib as pl\n",
    "import os\n",
    "import pandas as pd\n",
    "import warnings\n",
    "warnings.simplefilter(\"ignore\")\n",
    "from copy import copy\n",
    "import retroBO_analysis_functions as fns\n",
    "import pickle\n",
    "import matplotlib.pyplot as plt\n",
    "import matplotlib as mpl\n",
    "\n",
    "mpl.style.use('mystyle.mplstyle')\n",
    "\n",
    "inch_conversion = 1/25.4\n",
    "page_width = 142.4 *inch_conversion\n",
    "column_width = 67.2* inch_conversion"
   ],
   "metadata": {
    "collapsed": false,
    "pycharm": {
     "name": "#%%\n"
    }
   }
  },
  {
   "cell_type": "markdown",
   "source": [
    "# Notebook for Plotting Retrospective Bayesian Optimisation Results\n",
    "\n",
    "This notebook is for plotting the results of the retrospective Bayesian optimisation on the PCR data."
   ],
   "metadata": {
    "collapsed": false
   }
  },
  {
   "cell_type": "markdown",
   "source": [
    "First specify the problem"
   ],
   "metadata": {
    "collapsed": false
   }
  },
  {
   "cell_type": "code",
   "execution_count": 42,
   "outputs": [],
   "source": [
    "param_name = 'r' # which parameters\n",
    "save=False\n",
    "params = ['r']\n",
    "starting_points = ['centre', '0_point_start'] \n",
    "learning_types = ['learning_many', 'learning_1']"
   ],
   "metadata": {
    "collapsed": false,
    "pycharm": {
     "name": "#%%\n"
    }
   }
  },
  {
   "cell_type": "markdown",
   "source": [
    "Load the results for the learning many case"
   ],
   "metadata": {
    "collapsed": false
   }
  },
  {
   "cell_type": "code",
   "execution_count": 43,
   "outputs": [],
   "source": [
    "many_dfs = {}\n",
    "path_name_ =  pl.Path.home() / f'Results/RetroBO'\n",
    "\n",
    "initial_surfaces = ['FP004-RP004-EvaGreen', 'FP002-RP002x-Probe']\n",
    "many_dfs[f'centre learning many'] = fns.load_retroBO_data(test_name=f'many_{param_name}_centre_True',\n",
    "                                                          restarts=restarts, initial_surfaces=initial_surfaces)\n",
    "many_dfs[f'0_point_start learning many'] = fns.load_retroBO_data(test_name=f'many_{param_name}_0_point_start_True',\n",
    "                                                                 restarts=restarts, initial_surfaces=initial_surfaces)"
   ],
   "metadata": {
    "collapsed": false,
    "pycharm": {
     "name": "#%%\n"
    }
   }
  },
  {
   "cell_type": "markdown",
   "source": [
    "load the results for learning one at a time"
   ],
   "metadata": {
    "collapsed": false
   }
  },
  {
   "cell_type": "code",
   "execution_count": 44,
   "outputs": [],
   "source": [
    "learning_surfaces = ['FP004-RP004-Probe', 'FP001-RP001x-EvaGreen', 'FP002-RP002x-EvaGreen',\n",
    "                'FP001-RP001x-Probe', 'FP005-FP001-Probe', 'RP001x-FP002-Probe',\n",
    "                'RP002x-FP005-Probe', 'FP005-FP004-EvaGreen', 'RP002x-FP002-EvaGreen',\n",
    "                'FP001-RP004-EvaGreen', 'FP002-RP004-EvaGreen', 'FP004-FP005-Probe',\n",
    "                'RP008x-FP005-Probe', 'FP005-FP001-EvaGreen', 'RP002x-FP004-EvaGreen',\n",
    "                'RP008x-FP001-EvaGreen']\n",
    "\n",
    "one_from_many_dfs = {}\n",
    "for starting_point in starting_points:\n",
    "    results_dfs = {}\n",
    "    initial_surfaces_dfs = {}\n",
    "    for learning_surface in learning_surfaces:\n",
    "        test_name = f'one_from_many_{learning_surface}_{param_name}_{starting_point}_True'\n",
    "        initial_surfaces = fns.get_initial_surfaces_one(test_name, learning_surface)\n",
    "        results_df = fns.load_retroBO_data(test_name, restarts, initial_surfaces)\n",
    "\n",
    "        if results_df is not None:\n",
    "            # avg_max = int(results_df.loc[results_df['model'] == 'avg', 'iteration' ].to_numpy().max())\n",
    "            # results_df = results_df.loc[results_df['iteration'] <= avg_max]\n",
    "            results_dfs[learning_surface] = results_df\n",
    "\n",
    "        initial_surfaces_dfs[learning_surface] = initial_surfaces\n",
    "    results_df = pd.concat(results_dfs.values())\n",
    "    one_from_many_dfs[f'{starting_point} learning 1'] = results_df"
   ],
   "metadata": {
    "collapsed": false,
    "pycharm": {
     "name": "#%%\n"
    }
   }
  },
  {
   "cell_type": "code",
   "execution_count": 45,
   "outputs": [],
   "source": [
    "one_from_many_dfs[f'0_point_start learning 1']['iteration'] = one_from_many_dfs[f'0_point_start learning 1']['iteration'] - 1\n",
    "many_dfs[f'0_point_start learning many']['iteration'] = many_dfs[f'0_point_start learning many']['iteration'] - 1"
   ],
   "metadata": {
    "collapsed": false,
    "pycharm": {
     "name": "#%%\n"
    }
   }
  },
  {
   "cell_type": "markdown",
   "source": [
    "create dict of the results dataframes"
   ],
   "metadata": {
    "collapsed": false
   }
  },
  {
   "cell_type": "code",
   "execution_count": 46,
   "outputs": [],
   "source": [
    "res_dfs = one_from_many_dfs\n",
    "res_dfs.update(many_dfs)"
   ],
   "metadata": {
    "collapsed": false,
    "pycharm": {
     "name": "#%%\n"
    }
   }
  },
  {
   "cell_type": "code",
   "execution_count": 47,
   "outputs": [],
   "source": [
    "res_dfs2 = {}\n",
    "res_dfs2[f'0_point_start_learning_1'] = res_dfs[f'0_point_start learning 1']\n",
    "res_dfs2[f'0_point_start_learning_many'] = res_dfs[f'0_point_start learning many']\n",
    "res_dfs2[f'centre_learning_1'] = res_dfs[f'centre learning 1']\n",
    "res_dfs2[f'centre_learning_many'] = res_dfs[f'centre learning many']"
   ],
   "metadata": {
    "collapsed": false,
    "pycharm": {
     "name": "#%%\n"
    }
   }
  },
  {
   "cell_type": "code",
   "execution_count": 48,
   "outputs": [],
   "source": [
    "results_path = pl.Path(os.getcwd()).parent / 'results'\n",
    "for key, df in res_dfs2.items():\n",
    "    df.to_csv(results_path /f'constrained_bayes_opt_{key}.csv')"
   ],
   "metadata": {
    "collapsed": false,
    "pycharm": {
     "name": "#%%\n"
    }
   }
  },
  {
   "cell_type": "code",
   "execution_count": 49,
   "outputs": [],
   "source": [
    "res_dfs = {}\n",
    "results_path = pl.Path(os.getcwd()).parent / 'results'\n",
    "for key in ['centre_learning_1', '0_point_start_learning_1',\n",
    "                  'centre_learning_many', '0_point_start_learning_many']:\n",
    "    res_dfs[key] = pd.read_csv(results_path /f'constrained_bayes_opt_{key}.csv', index_col=0)"
   ],
   "metadata": {
    "collapsed": false,
    "pycharm": {
     "name": "#%%\n"
    }
   }
  },
  {
   "cell_type": "markdown",
   "source": [
    "Check what data is missing\n",
    "If necessary, see which seeds are missing data:"
   ],
   "metadata": {
    "collapsed": false
   }
  },
  {
   "cell_type": "code",
   "execution_count": 50,
   "outputs": [
    {
     "name": "stdout",
     "output_type": "stream",
     "text": [
      "centre_learning_1\n",
      "seed                   0   1   2   3   4   5   6   7   8   9   10  11  12  13  14  15  16  17  18  19  20  21  22  23  24\n",
      "FP001-RP001x-EvaGreen  24  24  24  24  24  24  24  24  24  24  24  24  24  24  24  24  24  24  24  24  24  24  24  24  24\n",
      "FP002-RP002x-EvaGreen  15  15  15  15  15  15  15  15  15  15  15  15  15  15  15  15  15  15  15  15  15  15  15  15  15\n",
      "FP005-FP001-Probe       8   8   8   8   8   8   8   8   8   8   8   8   8   8   8   8   8   8   8   8   8   8   8   8   8\n",
      "RP001x-FP002-Probe     19  19  19  19  19  19  19  19  19  19  19  19  19  19  19  19  19  19  19  19  19  19  19  19  19\n",
      "RP002x-FP005-Probe      8   8   8   8   8   8   8   8   8   8   8   8   8   8   8   8   8   8   8   8   8   8   8   8   8\n",
      "FP005-FP004-EvaGreen    8   8   8   8   8   8   8   8   8   8   8   8   8   8   8   8   8   8   8   8   8   8   8   8   8\n",
      "FP004-RP004-Probe      47  49  49  47  49  49  53  46  49  46  47  49  38  47  41  47  47  46  39  47  53  47  46  43  47\n",
      "RP002x-FP002-EvaGreen   2   2   2   2   2   2   2   2   2   2   2   2   2   2   2   2   2   2   2   2   2   2   2   2   2\n",
      "FP001-RP004-EvaGreen    7   7   7   7   7   7   7   7   7   7   7   7   7   7   7   7   7   7   7   7   7   7   7   7   7\n",
      "FP002-RP004-EvaGreen    3   3   3   3   3   3   3   3   3   3   3   3   3   3   3   3   3   3   3   3   3   3   3   3   3\n",
      "FP004-FP005-Probe       8   8   8   8   8   8   8   8   8   8   8   8   8   8   8   8   8   8   8   8   8   8   8   8   8\n",
      "RP008x-FP005-Probe      8   8   8   8   8   8   8   8   8   8   8   8   8   8   8   8   8   8   8   8   8   8   8   8   8\n",
      "FP005-FP001-EvaGreen   14  14  14  14  14  14  14  14  14  14  14  14  14  14  14  14  14  14  14  14  14  14  14  14  14\n",
      "RP002x-FP004-EvaGreen   6   6   6   6   6   6   6   6   6   6   6   6   6   6   6   6   6   6   6   6   6   6   6   6   6\n",
      "RP008x-FP001-EvaGreen   8   8   8   8   8   8   8   8   8   8   8   8   8   8   8   8   8   8   8   8   8   8   8   8   8\n",
      "FP001-RP001x-Probe     20  20  20  20  20  20  20  20  20  20  20  20  20  20  20  20  20  20  20  20  20  20  20  20  20\n",
      "0_point_start_learning_1\n",
      "seed                   0   1   2   3   4   5   6   7   8   9   10  11  12  13  14  15  16  17  18  19  20  21  22  23  24\n",
      "FP001-RP001x-EvaGreen  24  24  24  24  24  24  24  24  24  24  24  24  24  24  24  24  24  24  24  24  24  24  24  24  24\n",
      "FP002-RP002x-EvaGreen  15  15  15  15  15  15  15  15  15  15  15  15  15  15  15  15  15  15  15  15  15  15  15  15  15\n",
      "FP005-FP001-Probe       8   8   8   8   8   8   8   8   8   8   8   8   8   8   8   8   8   8   8   8   8   8   8   8   8\n",
      "RP001x-FP002-Probe     19  19  19  19  19  19  19  19  19  19  19  19  19  19  19  19  19  19  19  19  19  19  19  19  19\n",
      "RP002x-FP005-Probe      8   8   8   8   8   8   8   8   8   8   8   8   8   8   8   8   8   8   8   8   8   8   8   8   8\n",
      "FP005-FP004-EvaGreen    8   8   8   8   8   8   8   8   8   8   8   8   8   8   8   8   8   8   8   8   8   8   8   8   8\n",
      "FP004-RP004-Probe      50  47  47  50  48  48  50  49  49  50  48  48  47  44  48  50  43  50  46  47  46  46  47  48  43\n",
      "RP002x-FP002-EvaGreen   2   2   2   2   2   2   2   2   2   2   2   2   2   2   2   2   2   2   2   2   2   2   2   2   2\n",
      "FP001-RP004-EvaGreen    7   7   7   7   7   7   7   7   7   7   7   7   7   7   7   7   7   7   7   7   7   7   7   7   7\n",
      "FP002-RP004-EvaGreen    3   3   3   3   3   3   3   3   3   3   3   3   3   3   3   3   3   3   3   3   3   3   3   3   3\n",
      "FP004-FP005-Probe       8   8   8   8   8   8   8   8   8   8   8   8   8   8   8   8   8   8   8   8   8   8   8   8   8\n",
      "RP008x-FP005-Probe      8   8   8   8   8   8   8   8   8   8   8   8   8   8   8   8   8   8   8   8   8   8   8   8   8\n",
      "FP005-FP001-EvaGreen   14  14  14  14  14  14  14  14  14  14  14  14  14  14  14  14  14  14  14  14  14  14  14  14  14\n",
      "RP002x-FP004-EvaGreen   6   6   6   6   6   6   6   6   6   6   6   6   6   6   6   6   6   6   6   6   6   6   6   6   6\n",
      "RP008x-FP001-EvaGreen   8   8   8   8   8   8   8   8   8   8   8   8   8   8   8   8   8   8   8   8   8   8   8   8   8\n",
      "FP001-RP001x-Probe     20  20  20  20  20  20  20  20  20  20  20  20  20  20  20  20  20  20  20  20  20  20  20  20  20\n",
      "centre_learning_many\n",
      "seed                   0   1   2   3   4   5   6   7   8   9   10  11  12  13  14  15  16  17  18  19  20  21  22  23  24\n",
      "FP001-RP001x-EvaGreen  24  24  24  24  24  24  24  24  24  24  24  24  24  24  24  24  24  24  24  24  24  24  24  24  24\n",
      "FP002-RP002x-EvaGreen  15  15  15  15  15  15  15  15  15  15  15  15  15  15  15  15  15  15  15  15  15  15  15  15  15\n",
      "FP005-FP001-Probe       8   8   8   8   8   8   8   8   8   8   8   8   8   8   8   8   8   8   8   8   8   8   8   8   8\n",
      "RP001x-FP002-Probe     19  19  19  19  19  19  19  19  19  19  19  19  19  19  19  19  19  19  19  19  19  19  19  19  19\n",
      "RP002x-FP005-Probe      8   8   8   8   8   8   8   8   8   8   8   8   8   8   8   8   8   8   8   8   8   8   8   8   8\n",
      "FP005-FP004-EvaGreen    8   8   8   8   8   8   8   8   8   8   8   8   8   8   8   8   8   8   8   8   8   8   8   8   8\n",
      "FP004-RP004-Probe      53  53  53  53  53  53  53  53  53  53  53  53  53  53  53  53  53  53  53  53  53  53  53  53  53\n",
      "RP002x-FP002-EvaGreen   2   2   2   2   2   2   2   2   2   2   2   2   2   2   2   2   2   2   2   2   2   2   2   2   2\n",
      "FP001-RP004-EvaGreen    7   7   7   7   7   7   7   7   7   7   7   7   7   7   7   7   7   7   7   7   7   7   7   7   7\n",
      "FP002-RP004-EvaGreen    3   3   3   3   3   3   3   3   3   3   3   3   3   3   3   3   3   3   3   3   3   3   3   3   3\n",
      "FP004-FP005-Probe       8   8   8   8   8   8   8   8   8   8   8   8   8   8   8   8   8   8   8   8   8   8   8   8   8\n",
      "RP008x-FP005-Probe      8   8   8   8   8   8   8   8   8   8   8   8   8   8   8   8   8   8   8   8   8   8   8   8   8\n",
      "FP005-FP001-EvaGreen   14  14  14  14  14  14  14  14  14  14  14  14  14  14  14  14  14  14  14  14  14  14  14  14  14\n",
      "RP002x-FP004-EvaGreen   6   6   6   6   6   6   6   6   6   6   6   6   6   6   6   6   6   6   6   6   6   6   6   6   6\n",
      "RP008x-FP001-EvaGreen   8   8   8   8   8   8   8   8   8   8   8   8   8   8   8   8   8   8   8   8   8   8   8   8   8\n",
      "FP001-RP001x-Probe     20  20  20  20  20  20  20  20  20  20  20  20  20  20  20  20  20  20  20  20  20  20  20  20  20\n",
      "0_point_start_learning_many\n",
      "seed                   0   1   2   3   4   5   6   7   8   9   10  11  12  13  14  15  16  17  18  19  20  21  22  23  24\n",
      "FP001-RP001x-EvaGreen  24  24  24  24  24  24  24  24  24  24  24  24  24  24  24  24  24  24  24  24  24  24  24  24  24\n",
      "FP002-RP002x-EvaGreen  15  15  15  15  15  15  15  15  15  15  15  15  15  15  15  15  15  15  15  15  15  15  15  15  15\n",
      "FP005-FP001-Probe       8   8   8   8   8   8   8   8   8   8   8   8   8   8   8   8   8   8   8   8   8   8   8   8   8\n",
      "RP001x-FP002-Probe     19  19  19  19  19  19  19  19  19  19  19  19  19  19  19  19  19  19  19  19  19  19  19  19  19\n",
      "RP002x-FP005-Probe      8   8   8   8   8   8   8   8   8   8   8   8   8   8   8   8   8   8   8   8   8   8   8   8   8\n",
      "FP005-FP004-EvaGreen    8   8   8   8   8   8   8   8   8   8   8   8   8   8   8   8   8   8   8   8   8   8   8   8   8\n",
      "FP004-RP004-Probe      53  53  53  53  53  53  53  53  53  53  53  53  53  53  53  53  53  53  53  53  53  53  53  53  53\n",
      "RP002x-FP002-EvaGreen   2   2   2   2   2   2   2   2   2   2   2   2   2   2   2   2   2   2   2   2   2   2   2   2   2\n",
      "FP001-RP004-EvaGreen    7   7   7   7   7   7   7   7   7   7   7   7   7   7   7   7   7   7   7   7   7   7   7   7   7\n",
      "FP002-RP004-EvaGreen    3   3   3   3   3   3   3   3   3   3   3   3   3   3   3   3   3   3   3   3   3   3   3   3   3\n",
      "FP004-FP005-Probe       8   8   8   8   8   8   8   8   8   8   8   8   8   8   8   8   8   8   8   8   8   8   8   8   8\n",
      "RP008x-FP005-Probe      8   8   8   8   8   8   8   8   8   8   8   8   8   8   8   8   8   8   8   8   8   8   8   8   8\n",
      "FP005-FP001-EvaGreen   14  14  14  14  14  14  14  14  14  14  14  14  14  14  14  14  14  14  14  14  14  14  14  14  14\n",
      "RP002x-FP004-EvaGreen   6   6   6   6   6   6   6   6   6   6   6   6   6   6   6   6   6   6   6   6   6   6   6   6   6\n",
      "RP008x-FP001-EvaGreen   8   8   8   8   8   8   8   8   8   8   8   8   8   8   8   8   8   8   8   8   8   8   8   8   8\n",
      "FP001-RP001x-Probe     20  20  20  20  20  20  20  20  20  20  20  20  20  20  20  20  20  20  20  20  20  20  20  20  20\n"
     ]
    }
   ],
   "source": [
    "for key, df in res_dfs.items():\n",
    "    print(key)\n",
    "    counts_df = pd.DataFrame(columns=res_dfs[f'centre_learning_many']['PrimerPairReporter'].unique())\n",
    "    for ppr in df['PrimerPairReporter'].unique():\n",
    "        df_ = df[df['PrimerPairReporter'] == ppr][['BP', 'GC', 'seed']].drop_duplicates()\n",
    "        counts = df_.value_counts('seed').to_frame().sort_values(by='seed')\n",
    "        counts_df[ppr] = df_.value_counts('seed').to_frame().sort_values(by='seed')\n",
    "        # seeds_df[key][ppr] = len(df_['seed'].unique())\n",
    "    print(counts_df.T.to_string())"
   ],
   "metadata": {
    "collapsed": false,
    "pycharm": {
     "name": "#%%\n"
    }
   }
  },
  {
   "cell_type": "markdown",
   "source": [
    "Calculate the regret"
   ],
   "metadata": {
    "collapsed": false
   }
  },
  {
   "cell_type": "code",
   "execution_count": 51,
   "outputs": [],
   "source": [
    "stzd = True\n",
    "max_iter = 16\n",
    "\n",
    "if len(params) >1:\n",
    "    regret_metric = 'combined regret'\n",
    "else:\n",
    "    if param_name == 'r':\n",
    "        regret_metric = 'regret r'\n",
    "    elif param_name == 'm':\n",
    "        regret_metric = 'regret m'\n",
    "\n",
    "starting_point_names = {'centre':'Centre', '0_point_start':'Model\\'s Choice'}\n",
    "learning_type_names = {'learning_many':'Learning Many', 'learning_1':'Learning One\\nat a Time'}\n",
    "plot_minmax = True\n",
    "\n",
    "regrets_all = {'learning_many':{}, 'learning_1':{}}\n",
    "for i, learning_type in enumerate(learning_types): #, 'learning 1'\n",
    "    for j, starting_point in enumerate(starting_points):\n",
    "        df = res_dfs[f'{starting_point}_{learning_type}']\n",
    "        best_points = fns.get_best_points(params, df, stzd=stzd, log_t=False)\n",
    "        regret_df_all = fns.calculate_regret(df, params, best_points, stzd=stzd)\n",
    "        regret_df_all = regret_df_all[regret_df_all['iteration'] <=max_iter]\n",
    "        regrets_all[learning_type][starting_point] = regret_df_all"
   ],
   "metadata": {
    "collapsed": false,
    "pycharm": {
     "name": "#%%\n"
    }
   }
  },
  {
   "cell_type": "code",
   "execution_count": 52,
   "outputs": [],
   "source": [
    "\n",
    "cumulative_regrets = {'learning_many':{},\n",
    "                      'learning_1':{}}\n",
    "for i, learning_type in enumerate(learning_types):\n",
    "    for j, starting_point in enumerate(starting_points):\n",
    "\n",
    "        regret_df = regrets_all[learning_type][starting_point]\n",
    "\n",
    "        if 'r' in params and 'm' in params:\n",
    "            regret_names = ['combined regret', 'regret r', 'regret m']\n",
    "        else:\n",
    "            regret_names = [f'regret {param}' for param in params]\n",
    "\n",
    "        # if learning_type == 'learning many':\n",
    "        #     for seed in regret_df['seed'].unique():\n",
    "        #         temp_df = regret_df[regret_df['seed'] == seed]\n",
    "        #         if temp_df['iteration'].max() != max_iter:\n",
    "        #             regret_df= regret_df[regret_df['seed'] != seed]\n",
    "\n",
    "        regret_df = regret_df.sort_values('iteration')\n",
    "\n",
    "        # calculate the cumulative minimum regret and cumulative sum of regret\n",
    "\n",
    "        for model in regret_df['model'].unique():\n",
    "            for seed in regret_df['seed'].unique():\n",
    "                for ppr in regret_df['PrimerPairReporter'].unique():\n",
    "                    for regret_name in regret_names:\n",
    "                        regret_df.loc[\n",
    "                            (regret_df['model'] == model) & (regret_df['seed'] == seed) & (\n",
    "                                        regret_df['PrimerPairReporter'] == ppr), f'{regret_name} cummin'] = \\\n",
    "                            regret_df.loc[(regret_df['model'] == model) & (regret_df['seed'] == seed) & (\n",
    "                                    regret_df['PrimerPairReporter'] == ppr), regret_name].cummin()\n",
    "                        regret_df.loc[\n",
    "                            (regret_df['model'] == model) & (regret_df['seed'] == seed) & (\n",
    "                                        regret_df['PrimerPairReporter'] == ppr), f'{regret_name} cumsum'] = \\\n",
    "                            regret_df.loc[(regret_df['model'] == model) & (regret_df['seed'] == seed) & (\n",
    "                                    regret_df['PrimerPairReporter'] == ppr), f'{regret_name} cummin'].cumsum()\n",
    "        cumulative_regrets[learning_type][starting_point] = regret_df"
   ],
   "metadata": {
    "collapsed": false,
    "pycharm": {
     "name": "#%%\n"
    }
   }
  },
  {
   "cell_type": "code",
   "execution_count": 53,
   "outputs": [],
   "source": [
    "regret_metrics = {'learning_many':{}, 'learning_1':{}}\n",
    "for i, learning_type in enumerate(learning_types): #, 'learning 1'\n",
    "    for j, starting_point in enumerate(starting_points):\n",
    "        regret_df = cumulative_regrets[learning_type][starting_point]\n",
    "\n",
    "        i_max = regret_df['iteration'].max() #.loc[regret_df['model'] =='avg',\n",
    "\n",
    "        for ppr in regret_df['PrimerPairReporter'].unique():\n",
    "\n",
    "            ppr_imax = regret_df.loc[regret_df['PrimerPairReporter'] == ppr, 'iteration'].to_numpy().max()\n",
    "            if ppr_imax == i_max:\n",
    "                pass\n",
    "            else:\n",
    "                extra_rows = pd.concat([regret_df.loc[(regret_df['PrimerPairReporter'] == ppr)\n",
    "                                                & (regret_df['iteration'] == ppr_imax)]] * int((i_max - ppr_imax)))\n",
    "                extra_rows = extra_rows.sort_values(['model', 'seed'])\n",
    "                if ppr_imax < (i_max - 1):\n",
    "                    test = np.arange(ppr_imax + 1, i_max + 1).tolist() * int(len(extra_rows)/(i_max-ppr_imax))\n",
    "                    extra_rows['iteration'] = np.arange(ppr_imax + 1, i_max + 1).tolist() \\\n",
    "                                              * int(len(extra_rows)/(i_max-ppr_imax))\n",
    "                    regret_df = regret_df.append(extra_rows)\n",
    "                elif ppr_imax == (i_max - 1):\n",
    "                    extra_rows['iteration'] = i_max\n",
    "                    regret_df = regret_df.append(extra_rows)\n",
    "                else:\n",
    "                    pass\n",
    "        # if learning_type == 'learning many':\n",
    "        df = regret_df.groupby(['model', 'iteration', 'seed']).mean().reset_index()\n",
    "\n",
    "        df2 = df.groupby(['model', 'iteration']).mean().reset_index()\n",
    "        df3 = df.groupby(['model', 'iteration']).median().reset_index()\n",
    "        df4 = df.groupby(['model', 'iteration']).quantile(0.05).reset_index()\n",
    "        df5 = df.groupby(['model', 'iteration']).quantile(0.95).reset_index()\n",
    "        metrics = ['mean', 'median', 'min', 'max']\n",
    "\n",
    "        dfs = [df2, df3, df4, df5]\n",
    "        for i in range(len(dfs)):\n",
    "            for col in [f'{regret_name} {met}' for regret_name in regret_names for met in ['cummin', 'cumsum']]:\n",
    "                dfs[i][f'{metrics[i]} {col}'] = dfs[i][col]\n",
    "            dfs[i] = dfs[i].drop(\n",
    "                columns=[f'{regret_name} {met}' for regret_name in regret_names for met in ['cummin', 'cumsum']]\n",
    "                        + ['seed', 'index', 'initial_surface'] + regret_names)\n",
    "        regret_df = dfs[0].merge(dfs[1], on=['model', 'iteration'])\n",
    "        regret_df = regret_df.merge(dfs[2], on=['model', 'iteration'])\n",
    "        regret_df = regret_df.merge(dfs[3], on=['model', 'iteration'])\n",
    "\n",
    "        # else:\n",
    "        #\n",
    "        #     # calculate the mean, min, and max of the cumulative minimum regret and cumulative sum of\n",
    "        #     # regret across all seeds for each primer pair reporter\n",
    "        #\n",
    "        #     df4 = regret_df.groupby(['model', 'iteration', 'PrimerPairReporter']).mean().reset_index()\n",
    "        #     df7 = regret_df.groupby(['model', 'iteration', 'PrimerPairReporter']).median().reset_index()\n",
    "        #     df5 = regret_df.groupby(['model', 'iteration', 'PrimerPairReporter']).min().reset_index()\n",
    "        #     df6 = regret_df.groupby(['model', 'iteration', 'PrimerPairReporter']).max().reset_index()\n",
    "        #\n",
    "        #     # create new dataframe which combines these metrics\n",
    "        #\n",
    "        #     metrics = ['mean', 'min', 'max', 'median']\n",
    "        #     dfs = [df4, df5, df6, df7]\n",
    "        #     for i in range(len(dfs)):\n",
    "        #         for col in [f'{regret_name} {met}' for regret_name in regret_names for met in ['cummin', 'cumsum']]:\n",
    "        #             dfs[i][f'{metrics[i]} {col}'] = dfs[i][col]\n",
    "        #         dfs[i] = dfs[i].drop(\n",
    "        #             columns=[f'{regret_name} {met}' for regret_name in regret_names for met in ['cummin', 'cumsum']]\n",
    "        #                     + ['seed', 'index', 'initial_surface'] + regret_names)\n",
    "        #\n",
    "        #     regret_df = dfs[0].merge(dfs[1], on=['model', 'iteration', 'PrimerPairReporter'])\n",
    "        #     regret_df = regret_df.merge(dfs[2], on=['model', 'iteration', 'PrimerPairReporter'])\n",
    "        #     regret_df = regret_df.merge(dfs[3], on=['model', 'iteration', 'PrimerPairReporter'])\n",
    "\n",
    "\n",
    "        regret_df = regret_df.groupby(['model', 'iteration']).mean().reset_index()\n",
    "        regret_metrics[learning_type][starting_point] = regret_df\n"
   ],
   "metadata": {
    "collapsed": false,
    "pycharm": {
     "name": "#%%\n"
    }
   }
  },
  {
   "cell_type": "code",
   "execution_count": 54,
   "outputs": [
    {
     "data": {
      "text/plain": "<Figure size 560.63x360.63 with 4 Axes>",
      "image/png": "[encoded data removed]"
     },
     "metadata": {},
     "output_type": "display_data"
    }
   ],
   "source": [
    "linestyles = {'lmc':'dashdot', 'mo_indi': 'dotted', 'lvm':  'solid' , 'avg': 'dashed' }\n",
    "def get_colors():\n",
    "    cols = plt.rcParams['axes.prop_cycle'].by_key()['color']\n",
    "    # cols = ['#E69F00', '#56B4E9', '#009E73', '#CC79A7',\n",
    "    #               '#0072B2', '#D55E00', '#F0E442', '#000000', ]\n",
    "    # cols = ['#7a0177', '#c51b8a','#f768a1',  '#fbb4b9']\n",
    "    cols = ['#253494', '#2c7fb8','#41b6c4',  '#a1dab4']\n",
    "    colors = {'lmc': cols[0], 'mo_indi': cols[3], 'lvm': cols[1], 'avg': cols[2]}\n",
    "    return colors\n",
    "\n",
    "fig, axs = plt.subplots(nrows=2, ncols=2, figsize=[page_width, page_width-2])\n",
    "colors = fns.get_colors()\n",
    "plot_minmax=True\n",
    "starting_point_names = {'centre':'Centre', '0_point_start':'Model\\'s Choice'}\n",
    "learning_type_names = {'learning_many':'Many Surfaces', 'learning_1':'One at a Time'}\n",
    "labels = {'mo_indi':'MOGP', 'avg':'AvgGP', 'lmc': 'LMC', 'lvm':'LVMOGP'}\n",
    "for i, learning_type in enumerate(learning_types): #, 'learning 1'\n",
    "    for j, starting_point in enumerate(starting_points):\n",
    "        regret_df = regret_metrics[learning_type][starting_point]\n",
    "        for model in ['mo_indi', 'avg', 'lmc', 'lvm']:\n",
    "            df = regret_df[(regret_df['model'] == model) ].sort_values('iteration')\n",
    "            if (j==0) & (i==0):\n",
    "                label = labels[model]\n",
    "            else:\n",
    "                label = None\n",
    "            axs[j, i].plot(df['iteration'], df[f'mean {regret_metric} cumsum'], label=label,\n",
    "                           color=colors[model], linestyle=linestyles[model])\n",
    "            if plot_minmax:\n",
    "                axs[j, i].fill_between(df['iteration'], df[f'min {regret_metric} cumsum'],\n",
    "                                       df[f'max {regret_metric} cumsum'],\n",
    "                                       alpha=0.2, color=colors[model])\n",
    "        axs[0, i].set_title(f'{learning_type_names[learning_type]}', fontsize=10)\n",
    "        axs[j, i].set_ylabel(f'Cumulative Regret')\n",
    "        axs[1, i].set_xlabel('no. iterations')\n",
    "        axs[0, i].set_xlabel('no. iterations')\n",
    "\n",
    "rows = [f'{row}' for row in starting_point_names.values()]\n",
    "for ax, row in zip(axs[:,0], rows):\n",
    "    ax.annotate(row, xy=(0, 0.5), xytext=(-ax.yaxis.labelpad - 5, 0),\n",
    "                xycoords=ax.yaxis.label, textcoords='offset points',\n",
    "                fontsize=10, ha='right', va='center', rotation=90)\n",
    "\n",
    "        # plt.suptitle('Cumulative Regret')\n",
    "        # axs[j, i].legend()\n",
    "\n",
    "fig.legend(loc=\"lower center\", ncols=4,\n",
    "               bbox_to_anchor=(0.53, -0.08))\n",
    "plt.tight_layout()\n",
    "plt.savefig(f'plots/retroBO_cumulative_regret_{param_name}.pdf', bbox_inches='tight')\n",
    "plt.savefig(f'plots/retroBO_cumulative_regret_{param_name}.svg', bbox_inches='tight')"
   ],
   "metadata": {
    "collapsed": false,
    "pycharm": {
     "name": "#%%\n"
    }
   }
  },
  {
   "cell_type": "code",
   "execution_count": 55,
   "outputs": [
    {
     "data": {
      "text/plain": "<Figure size 280.315x224.252 with 4 Axes>",
      "image/png": "[encoded data removed]"
     },
     "metadata": {},
     "output_type": "display_data"
    }
   ],
   "source": [
    "\n",
    "linestyles = {'lmc':'dashdot', 'mo_indi': 'dotted', 'lvm':  'solid' , 'avg': 'dashed' }\n",
    "\n",
    "colors = fns.get_colors()\n",
    "starting_point_names = {'centre':'Centre', '0_point_start':'Model\\'s\\nChoice'}\n",
    "learning_type_names = {'learning many':'Many\\nSurfaces', 'learning 1':'One at\\na Time'}\n",
    "labels = {'mo_indi':'MOGP', 'avg':'AvgGP', 'lmc': 'LMC', 'lvm':'LVMOGP'}\n",
    "\n",
    "fig, axs = plt.subplots(nrows=2, ncols=2, figsize=[0.5*page_width, 0.4*page_width])\n",
    "for i, learning_type in enumerate(learning_types):\n",
    "    for j, starting_point in enumerate(starting_points):\n",
    "\n",
    "        regret_df = regret_metrics[learning_type][starting_point]\n",
    "        for model in regret_df['model'].unique():\n",
    "            df = regret_df[(regret_df['model'] == model)].sort_values('iteration')\n",
    "            if (j==0) & (i==0):\n",
    "                label = labels[model]\n",
    "            else:\n",
    "                label = None\n",
    "            axs[j, i].plot(df['iteration'], df[f'mean {regret_metric} cumsum'], label=label,\n",
    "                           color=colors[model], linestyle=linestyles[model])\n",
    "            if plot_minmax:\n",
    "                axs[j, i].fill_between(df['iteration'], df[f'min {regret_metric} cumsum'],\n",
    "                                       df[f'max {regret_metric} cumsum'],\n",
    "                                       alpha=0.17, color=colors[model])\n",
    "        # axs[0, i].set_title(f'{learning_type_names[learning_type]}')\n",
    "        # axs[j, i].set_ylabel(f'Cum. Regret')\n",
    "        axs[j, i].set_xlabel(None)\n",
    "        axs[j, 1].set_ylabel(None)\n",
    "        axs[j, i].set_xticks([0, 5, 10, 15] )\n",
    "\n",
    "# fig.legend(loc=\"lower center\", ncols=2,\n",
    "#                bbox_to_anchor=(0.5, -0.2))\n",
    "\n",
    "\n",
    "# rows = [f'{row}' for row in starting_point_names.values()]\n",
    "# for ax, row in zip(axs[:,0], rows):\n",
    "#     ax.annotate(row, xy=(0, 0.5), xytext=(-ax.yaxis.labelpad - 10, 0),\n",
    "#                 xycoords=ax.yaxis.label, textcoords='offset points',\n",
    "#                 size='large', ha='right', va='center', rotation=90)\n",
    "\n",
    "        # plt.suptitle('Cumulative Regret')\n",
    "        # axs[j, i].legend()\n",
    "# plt.tight_layout()\n",
    "# fig.supxlabel('no. iterations')\n",
    "plt.subplots_adjust(hspace=0.4, wspace=0.4, left=None, bottom=0.18, right=None, top=1)\n",
    "plt.tight_layout()\n",
    "plt.savefig(f'plots/retroBO_cumulative_regret_{param_name}_half_wlines.pdf', bbox_inches='tight')\n",
    "plt.savefig(f'plots/retroBO_cumulative_regret_{param_name}_half_wlines.svg', bbox_inches='tight')"
   ],
   "metadata": {
    "collapsed": false,
    "pycharm": {
     "name": "#%%\n"
    }
   }
  },
  {
   "cell_type": "code",
   "execution_count": 56,
   "outputs": [
    {
     "name": "stdout",
     "output_type": "stream",
     "text": [
      "learning_many centre\n",
      "first to zero\n",
      "   avg mo_indi  lmc  lvm\n",
      "0  121     124  144  255\n",
      "lowest cumulative regret\n",
      "  avg mo_indi  lmc  lvm\n",
      "0  80     182  140  197\n",
      "learning_many 0_point_start\n",
      "first to zero\n",
      "   avg mo_indi lmc  lvm\n",
      "0  119     107  97  147\n",
      "lowest cumulative regret\n",
      "  avg mo_indi lmc  lvm\n",
      "0  94      85  83  117\n",
      "learning_1 centre\n",
      "first to zero\n",
      "   avg mo_indi  lmc  lvm\n",
      "0  140     140  156  215\n",
      "lowest cumulative regret\n",
      "   avg mo_indi  lmc  lvm\n",
      "0  140     129  131  206\n",
      "learning_1 0_point_start\n",
      "first to zero\n",
      "   avg mo_indi lmc  lvm\n",
      "0  118      86  87  191\n",
      "lowest cumulative regret\n",
      "   avg mo_indi lmc  lvm\n",
      "0  106      89  87  159\n"
     ]
    }
   ],
   "source": [
    "win_dfs = {}\n",
    "for i, learning_type in enumerate(learning_types):\n",
    "    for j, starting_point in enumerate(starting_points):\n",
    "        df = res_dfs[f'{starting_point}_{learning_type}']\n",
    "        best_points = fns.get_best_points(params, df, stzd=stzd, log_t=False)\n",
    "        regret_df1 = fns.calculate_regret(df, params, best_points, stzd=stzd)\n",
    "        regret_df1 =regret_df1[regret_df1['iteration']<= max_iter]\n",
    "        win_df, win_df_totals = fns.get_win_counts(regret_df1, regret_metric)\n",
    "        win_df_cum_regret, win_df_totals_cum_regret = fns.get_cum_regret_table(regret_df1, regret_name=regret_metric)\n",
    "        win_dfs[learning_type + starting_point] = win_df\n",
    "        print(learning_type, starting_point)\n",
    "        print('first to zero')\n",
    "        print(win_df_totals[['avg', 'mo_indi', 'lmc', 'lvm']])\n",
    "        print('lowest cumulative regret')\n",
    "        print(win_df_totals_cum_regret[['avg', 'mo_indi', 'lmc', 'lvm']])"
   ],
   "metadata": {
    "collapsed": false,
    "pycharm": {
     "name": "#%%\n"
    }
   }
  },
  {
   "cell_type": "markdown",
   "source": [
    "Average number of iterations to best best_points"
   ],
   "metadata": {
    "collapsed": false
   }
  },
  {
   "cell_type": "code",
   "execution_count": 57,
   "outputs": [
    {
     "name": "stdout",
     "output_type": "stream",
     "text": [
      "centre_learning_1\n",
      "       PrimerPairReporter  avg   lmc   lvm mo_indi\n",
      "0   FP001-RP001x-EvaGreen  5.0   8.3   2.0     3.0\n",
      "1      FP001-RP001x-Probe  5.0  6.45   8.0     7.0\n",
      "2    FP001-RP004-EvaGreen  6.0   3.4  1.85     5.0\n",
      "3   FP002-RP002x-EvaGreen  1.0   3.4   1.9     1.0\n",
      "4    FP002-RP004-EvaGreen  1.0   1.0  1.05     1.0\n",
      "5       FP004-FP005-Probe  1.0   5.0   3.0     4.0\n",
      "6       FP004-RP004-Probe  2.0  2.25   2.0     3.0\n",
      "7    FP005-FP001-EvaGreen  2.0   1.8   1.6     1.0\n",
      "8       FP005-FP001-Probe  6.0   4.1  4.05     2.0\n",
      "9    FP005-FP004-EvaGreen  0.0   0.0   0.0     0.0\n",
      "10     RP001x-FP002-Probe  5.0   1.0   1.0     7.0\n",
      "11  RP002x-FP002-EvaGreen  1.0   1.0   1.0     1.0\n",
      "12  RP002x-FP004-EvaGreen  3.0  1.85   1.0     2.0\n",
      "13     RP002x-FP005-Probe  0.0   0.0   0.0     0.0\n",
      "14  RP008x-FP001-EvaGreen  5.0   2.0  2.95     5.0\n",
      "15     RP008x-FP005-Probe  6.0   4.0   3.0     5.0\n",
      "avg        3.062500\n",
      "lmc        2.846875\n",
      "lvm        2.150000\n",
      "mo_indi    2.937500\n",
      "dtype: float64\n",
      "0_point_start_learning_1\n",
      "       PrimerPairReporter  avg   lmc   lvm mo_indi\n",
      "0   FP001-RP001x-EvaGreen  4.0  6.65  2.75    8.55\n",
      "1      FP001-RP001x-Probe  4.0  6.35   6.9     5.7\n",
      "2    FP001-RP004-EvaGreen  6.0   2.5   1.0     2.6\n",
      "3   FP002-RP002x-EvaGreen  0.0  2.25  0.05    4.25\n",
      "4    FP002-RP004-EvaGreen  0.0  0.95   0.0    1.05\n",
      "5       FP004-FP005-Probe  0.0  2.85   2.1     2.8\n",
      "6       FP004-RP004-Probe  2.0  4.05   2.0    2.55\n",
      "7    FP005-FP001-EvaGreen  1.0   1.9  1.35    2.65\n",
      "8       FP005-FP001-Probe  6.0  3.45   3.3     1.4\n",
      "9    FP005-FP004-EvaGreen  0.0  0.95   2.1    1.25\n",
      "10     RP001x-FP002-Probe  4.0   1.0   0.0    2.65\n",
      "11  RP002x-FP002-EvaGreen  0.0  0.45   0.0    0.55\n",
      "12  RP002x-FP004-EvaGreen  2.0   0.9  0.05     1.8\n",
      "13     RP002x-FP005-Probe  2.0  2.55   2.6     4.5\n",
      "14  RP008x-FP001-EvaGreen  5.0   2.1  1.75     2.6\n",
      "15     RP008x-FP005-Probe  6.0   3.2   3.0     2.2\n",
      "avg        2.625000\n",
      "lmc        2.631250\n",
      "lvm        1.809375\n",
      "mo_indi    2.943750\n",
      "dtype: float64\n",
      "centre_learning_many\n",
      "       PrimerPairReporter  avg   lmc  lvm mo_indi\n",
      "0   FP001-RP001x-EvaGreen  7.0   8.9  5.1     6.0\n",
      "1      FP001-RP001x-Probe  8.0  7.85  8.0     9.0\n",
      "2    FP001-RP004-EvaGreen  2.0   1.0  1.0     5.0\n",
      "3   FP002-RP002x-EvaGreen  2.0   2.0  2.0     1.0\n",
      "4    FP002-RP004-EvaGreen  2.0   2.0  2.0     1.0\n",
      "5       FP004-FP005-Probe  5.0   5.0  4.0     4.0\n",
      "6       FP004-RP004-Probe  2.0   6.0  4.0     2.0\n",
      "7    FP005-FP001-EvaGreen  3.0   2.0  4.0     1.0\n",
      "8       FP005-FP001-Probe  6.0   5.0  4.2     1.0\n",
      "9    FP005-FP004-EvaGreen  0.0   0.0  0.0     0.0\n",
      "10     RP001x-FP002-Probe  1.0   1.0  1.0     8.0\n",
      "11  RP002x-FP002-EvaGreen  1.0   1.0  1.0     1.0\n",
      "12  RP002x-FP004-EvaGreen  4.0   2.0  2.0     3.0\n",
      "13     RP002x-FP005-Probe  0.0   0.0  0.0     0.0\n",
      "14  RP008x-FP001-EvaGreen  7.0   3.0  2.0     3.0\n",
      "15     RP008x-FP005-Probe  2.0   3.0  1.0     5.0\n",
      "avg        3.250000\n",
      "lmc        3.109375\n",
      "lvm        2.581250\n",
      "mo_indi    3.125000\n",
      "dtype: float64\n",
      "0_point_start_learning_many\n",
      "       PrimerPairReporter  avg   lmc  lvm mo_indi\n",
      "0   FP001-RP001x-EvaGreen  7.0  7.45  5.0     5.6\n",
      "1      FP001-RP001x-Probe  6.0  5.35  7.0     6.0\n",
      "2    FP001-RP004-EvaGreen  0.0   3.2  0.0     4.1\n",
      "3   FP002-RP002x-EvaGreen  3.0   3.9  3.0     5.5\n",
      "4    FP002-RP004-EvaGreen  0.0  0.75  2.0     0.7\n",
      "5       FP004-FP005-Probe  4.0   4.0  3.0    3.55\n",
      "6       FP004-RP004-Probe  1.0  3.55  9.0     2.3\n",
      "7    FP005-FP001-EvaGreen  3.0   4.2  0.0     3.3\n",
      "8       FP005-FP001-Probe  6.0  2.95  1.0     1.1\n",
      "9    FP005-FP004-EvaGreen  1.0  1.25  0.0    1.95\n",
      "10     RP001x-FP002-Probe  1.0   1.7  0.0     4.0\n",
      "11  RP002x-FP002-EvaGreen  1.0   0.4  1.0    0.45\n",
      "12  RP002x-FP004-EvaGreen  2.0  3.15  2.0     2.3\n",
      "13     RP002x-FP005-Probe  1.0   2.8  4.0     3.3\n",
      "14  RP008x-FP001-EvaGreen  2.0   2.0  2.0     1.8\n",
      "15     RP008x-FP005-Probe  4.0  2.85  0.0     3.4\n",
      "avg        2.625000\n",
      "lmc        3.093750\n",
      "lvm        2.437500\n",
      "mo_indi    3.084375\n",
      "dtype: float64\n"
     ]
    }
   ],
   "source": [
    "import math\n",
    "\n",
    "if len(params) >1:\n",
    "    regret_metric = 'combined regret'\n",
    "else:\n",
    "    regret_metric = 'regret r'\n",
    "win_dfs = {}\n",
    "win_dfs_cum_regrets = {}\n",
    "# for i, learning_type in enumerate(['learning many', 'learning 1']):\n",
    "#     for j, starting_point in enumerate(starting_points):\n",
    "for name, df in res_dfs.items():\n",
    "    best_points = fns.get_best_points(params, df, stzd=stzd, log_t=False)\n",
    "    regret_df1 = fns.calculate_regret(df, params, best_points, stzd=stzd, constrained=False)\n",
    "    # regret_df1 =regret_df1[regret_df1['iteration']<= max_iter]\n",
    "\n",
    "    df = regret_df1\n",
    "    avg_iter_df = pd.DataFrame(columns=['PrimerPairReporter'] + list(df['model'].unique()))\n",
    "    avg_iter_df['PrimerPairReporter'] = df['PrimerPairReporter'].unique()\n",
    "    for ppr in df['PrimerPairReporter'].unique():\n",
    "        zero_regret_dict = {model:[] for model in df['model'].unique()}\n",
    "        for seed in range(1, 21):\n",
    "            temp_df = df[(df['PrimerPairReporter'] == ppr) & (df['seed'] == seed)]\n",
    "            if len(temp_df) < 1:\n",
    "                pass\n",
    "            else:\n",
    "                for model in temp_df['model'].unique():\n",
    "                    temp_1 = temp_df[(temp_df['model'] == model) & (temp_df[regret_metric] <= 1e-8)]\n",
    "                    temp_2 = temp_df[(temp_df['model'] == model) & (temp_df['regret r'] <= 0.05)]\n",
    "                    # temp_1 = temp_df.loc[(temp_df['model'] == model) & (temp_df[regret_metric] <= 1e-8), 'iteration']\n",
    "                    # temp_2 = temp_df.loc[(temp_df['model'] == model) & (temp_df['regret r'] <= 0.06)\n",
    "                    #                      & (temp_df['regret m'] < 1e-8), 'iteration']\n",
    "                    temp_3 = pd.concat([temp_1, temp_2])\n",
    "                    zero_regret_dict[model].append(np.min(temp_3['iteration']))\n",
    "\n",
    "\n",
    "                    # zero_regret_dict[model].append(np.min(\n",
    "                    #     temp_df.loc[((temp_df['model'] == model) & (temp_df[regret_metric] <= 1e-8)).all() or\n",
    "                    #                 ((temp_df['model'] == model) & (temp_df['regret r'] <= 0.06)\n",
    "                    #                & (temp_df['regret m'] < 1e-8)).all(), 'iteration']))\n",
    "        # for model in temp_df['model'].unique():\n",
    "            # zero_regret_dict[model] = [max_iter if math.isnan(x) else x for x in zero_regret_dict[model]]\n",
    "        for model in df['model'].unique():\n",
    "            if np.isnan(zero_regret_dict[model]).any():\n",
    "                print(f'{name} {ppr} {model} has NaNs')\n",
    "            avg_iter_df.loc[avg_iter_df['PrimerPairReporter'] == ppr, model] = np.mean(zero_regret_dict[model])\n",
    "    print(name)\n",
    "    print(avg_iter_df)\n",
    "    print(avg_iter_df.mean())"
   ],
   "metadata": {
    "collapsed": false,
    "pycharm": {
     "name": "#%%\n"
    }
   }
  },
  {
   "cell_type": "code",
   "execution_count": 58,
   "outputs": [
    {
     "name": "stdout",
     "output_type": "stream",
     "text": [
      "      model starting point  learning type      mean       min       max\n",
      "0       avg         centre  learning_many  0.587843  0.587843  0.587843\n",
      "1       lmc         centre  learning_many  0.587843  0.587843  0.587843\n",
      "2       lvm         centre  learning_many  0.587843  0.587843  0.587843\n",
      "3   mo_indi         centre  learning_many  0.587843  0.587843  0.587843\n",
      "4       avg  0_point_start  learning_many  0.498869  0.498869  0.498869\n",
      "5       lmc  0_point_start  learning_many  0.703439  0.522551  0.953738\n",
      "6       lvm  0_point_start  learning_many  0.463846  0.463846  0.463846\n",
      "7   mo_indi  0_point_start  learning_many  0.650558  0.439144  0.905719\n",
      "8       avg         centre     learning_1  0.587843  0.587843  0.587843\n",
      "9       lmc         centre     learning_1  0.587843  0.587843  0.587843\n",
      "10      lvm         centre     learning_1  0.587843  0.587843  0.587843\n",
      "11  mo_indi         centre     learning_1  0.587843  0.587843  0.587843\n",
      "12      avg  0_point_start     learning_1  0.307999  0.307999  0.307999\n",
      "13      lmc  0_point_start     learning_1  0.622892  0.379757  0.848290\n",
      "14      lvm  0_point_start     learning_1  0.308547  0.286445  0.328599\n",
      "15  mo_indi  0_point_start     learning_1  0.674572  0.363795  0.854712\n",
      "lvm only:\n",
      "   model starting point  learning type      mean       min       max\n",
      "2    lvm         centre  learning_many  0.587843  0.587843  0.587843\n",
      "6    lvm  0_point_start  learning_many  0.463846  0.463846  0.463846\n",
      "10   lvm         centre     learning_1  0.587843  0.587843  0.587843\n",
      "14   lvm  0_point_start     learning_1  0.308547  0.286445  0.328599\n"
     ]
    }
   ],
   "source": [
    "first_regret_df = pd.DataFrame(columns=['model', 'starting point','learning type', 'mean', 'min', 'max'])\n",
    "first_regret_df['model'] = ['avg', 'mo_indi', 'lmc', 'lvm'] * 4\n",
    "first_regret_df['starting point'] = ['centre'] * 4 + ['0_point_start'] * 4 + ['centre'] * 4 + ['0_point_start'] * 4\n",
    "first_regret_df['learning type'] = ['learning many'] * 8 + ['learning 1'] * 8\n",
    "dfs = []\n",
    "\n",
    "for i, learning_type in enumerate(learning_types):\n",
    "    for j, starting_point in enumerate(starting_points):\n",
    "\n",
    "        regret_df = regret_metrics[learning_type][starting_point]\n",
    "        for mod_name in regret_df['model'].unique():\n",
    "            df_ = regret_df[(regret_df['model']==mod_name) & (regret_df['iteration'] == np.min(regret_df['iteration']))]\n",
    "            new_df = pd.DataFrame(data=[[mod_name, starting_point, learning_type , df_['mean regret r cummin'].to_numpy()[0],\n",
    "                                         df_['min regret r cummin'].to_numpy()[0],\n",
    "                                         df_['max regret r cummin'].to_numpy()[0] ]],\n",
    "                                  columns=['model', 'starting point','learning type', 'mean', 'min', 'max'])\n",
    "            dfs.append(new_df)\n",
    "\n",
    "first_regret_df = pd.concat(dfs, ignore_index=True)\n",
    "print(first_regret_df.to_string())\n",
    "print('lvm only:')\n",
    "print(first_regret_df[first_regret_df['model']== 'lvm'].to_string())"
   ],
   "metadata": {
    "collapsed": false,
    "pycharm": {
     "name": "#%%\n"
    }
   }
  },
  {
   "cell_type": "code",
   "execution_count": 58,
   "outputs": [],
   "source": [],
   "metadata": {
    "collapsed": false,
    "pycharm": {
     "name": "#%%\n"
    }
   }
  }
 ],
 "metadata": {
  "kernelspec": {
   "display_name": "Python 3 (ipykernel)",
   "language": "python",
   "name": "python3"
  },
  "language_info": {
   "codemirror_mode": {
    "name": "ipython",
    "version": 2
   },
   "file_extension": ".py",
   "mimetype": "text/x-python",
   "name": "python",
   "nbconvert_exporter": "python",
   "pygments_lexer": "ipython2",
   "version": "2.7.6"
  }
 },
 "nbformat": 4,
 "nbformat_minor": 1
}